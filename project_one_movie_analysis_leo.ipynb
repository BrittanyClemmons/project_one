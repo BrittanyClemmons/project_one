{
 "cells": [
  {
   "cell_type": "code",
   "execution_count": 176,
   "metadata": {},
   "outputs": [
    {
     "data": {
      "text/html": [
       "<div>\n",
       "<style scoped>\n",
       "    .dataframe tbody tr th:only-of-type {\n",
       "        vertical-align: middle;\n",
       "    }\n",
       "\n",
       "    .dataframe tbody tr th {\n",
       "        vertical-align: top;\n",
       "    }\n",
       "\n",
       "    .dataframe thead th {\n",
       "        text-align: right;\n",
       "    }\n",
       "</style>\n",
       "<table border=\"1\" class=\"dataframe\">\n",
       "  <thead>\n",
       "    <tr style=\"text-align: right;\">\n",
       "      <th></th>\n",
       "      <th>color</th>\n",
       "      <th>director_name</th>\n",
       "      <th>num_critic_for_reviews</th>\n",
       "      <th>duration</th>\n",
       "      <th>director_facebook_likes</th>\n",
       "      <th>actor_3_facebook_likes</th>\n",
       "      <th>actor_2_name</th>\n",
       "      <th>actor_1_facebook_likes</th>\n",
       "      <th>gross</th>\n",
       "      <th>genres</th>\n",
       "      <th>...</th>\n",
       "      <th>num_user_for_reviews</th>\n",
       "      <th>language</th>\n",
       "      <th>country</th>\n",
       "      <th>content_rating</th>\n",
       "      <th>budget</th>\n",
       "      <th>title_year</th>\n",
       "      <th>actor_2_facebook_likes</th>\n",
       "      <th>imdb_score</th>\n",
       "      <th>aspect_ratio</th>\n",
       "      <th>movie_facebook_likes</th>\n",
       "    </tr>\n",
       "  </thead>\n",
       "  <tbody>\n",
       "    <tr>\n",
       "      <th>0</th>\n",
       "      <td>Color</td>\n",
       "      <td>James Cameron</td>\n",
       "      <td>723.0</td>\n",
       "      <td>178.0</td>\n",
       "      <td>0.0</td>\n",
       "      <td>855.0</td>\n",
       "      <td>Joel David Moore</td>\n",
       "      <td>1000.0</td>\n",
       "      <td>760505847.0</td>\n",
       "      <td>Action|Adventure|Fantasy|Sci-Fi</td>\n",
       "      <td>...</td>\n",
       "      <td>3054.0</td>\n",
       "      <td>English</td>\n",
       "      <td>USA</td>\n",
       "      <td>PG-13</td>\n",
       "      <td>237000000.0</td>\n",
       "      <td>2009.0</td>\n",
       "      <td>936.0</td>\n",
       "      <td>7.9</td>\n",
       "      <td>1.78</td>\n",
       "      <td>33000</td>\n",
       "    </tr>\n",
       "    <tr>\n",
       "      <th>1</th>\n",
       "      <td>Color</td>\n",
       "      <td>Gore Verbinski</td>\n",
       "      <td>302.0</td>\n",
       "      <td>169.0</td>\n",
       "      <td>563.0</td>\n",
       "      <td>1000.0</td>\n",
       "      <td>Orlando Bloom</td>\n",
       "      <td>40000.0</td>\n",
       "      <td>309404152.0</td>\n",
       "      <td>Action|Adventure|Fantasy</td>\n",
       "      <td>...</td>\n",
       "      <td>1238.0</td>\n",
       "      <td>English</td>\n",
       "      <td>USA</td>\n",
       "      <td>PG-13</td>\n",
       "      <td>300000000.0</td>\n",
       "      <td>2007.0</td>\n",
       "      <td>5000.0</td>\n",
       "      <td>7.1</td>\n",
       "      <td>2.35</td>\n",
       "      <td>0</td>\n",
       "    </tr>\n",
       "    <tr>\n",
       "      <th>2</th>\n",
       "      <td>Color</td>\n",
       "      <td>Sam Mendes</td>\n",
       "      <td>602.0</td>\n",
       "      <td>148.0</td>\n",
       "      <td>0.0</td>\n",
       "      <td>161.0</td>\n",
       "      <td>Rory Kinnear</td>\n",
       "      <td>11000.0</td>\n",
       "      <td>200074175.0</td>\n",
       "      <td>Action|Adventure|Thriller</td>\n",
       "      <td>...</td>\n",
       "      <td>994.0</td>\n",
       "      <td>English</td>\n",
       "      <td>UK</td>\n",
       "      <td>PG-13</td>\n",
       "      <td>245000000.0</td>\n",
       "      <td>2015.0</td>\n",
       "      <td>393.0</td>\n",
       "      <td>6.8</td>\n",
       "      <td>2.35</td>\n",
       "      <td>85000</td>\n",
       "    </tr>\n",
       "    <tr>\n",
       "      <th>3</th>\n",
       "      <td>Color</td>\n",
       "      <td>Christopher Nolan</td>\n",
       "      <td>813.0</td>\n",
       "      <td>164.0</td>\n",
       "      <td>22000.0</td>\n",
       "      <td>23000.0</td>\n",
       "      <td>Christian Bale</td>\n",
       "      <td>27000.0</td>\n",
       "      <td>448130642.0</td>\n",
       "      <td>Action|Thriller</td>\n",
       "      <td>...</td>\n",
       "      <td>2701.0</td>\n",
       "      <td>English</td>\n",
       "      <td>USA</td>\n",
       "      <td>PG-13</td>\n",
       "      <td>250000000.0</td>\n",
       "      <td>2012.0</td>\n",
       "      <td>23000.0</td>\n",
       "      <td>8.5</td>\n",
       "      <td>2.35</td>\n",
       "      <td>164000</td>\n",
       "    </tr>\n",
       "    <tr>\n",
       "      <th>4</th>\n",
       "      <td>NaN</td>\n",
       "      <td>Doug Walker</td>\n",
       "      <td>NaN</td>\n",
       "      <td>NaN</td>\n",
       "      <td>131.0</td>\n",
       "      <td>NaN</td>\n",
       "      <td>Rob Walker</td>\n",
       "      <td>131.0</td>\n",
       "      <td>NaN</td>\n",
       "      <td>Documentary</td>\n",
       "      <td>...</td>\n",
       "      <td>NaN</td>\n",
       "      <td>NaN</td>\n",
       "      <td>NaN</td>\n",
       "      <td>NaN</td>\n",
       "      <td>NaN</td>\n",
       "      <td>NaN</td>\n",
       "      <td>12.0</td>\n",
       "      <td>7.1</td>\n",
       "      <td>NaN</td>\n",
       "      <td>0</td>\n",
       "    </tr>\n",
       "    <tr>\n",
       "      <th>...</th>\n",
       "      <td>...</td>\n",
       "      <td>...</td>\n",
       "      <td>...</td>\n",
       "      <td>...</td>\n",
       "      <td>...</td>\n",
       "      <td>...</td>\n",
       "      <td>...</td>\n",
       "      <td>...</td>\n",
       "      <td>...</td>\n",
       "      <td>...</td>\n",
       "      <td>...</td>\n",
       "      <td>...</td>\n",
       "      <td>...</td>\n",
       "      <td>...</td>\n",
       "      <td>...</td>\n",
       "      <td>...</td>\n",
       "      <td>...</td>\n",
       "      <td>...</td>\n",
       "      <td>...</td>\n",
       "      <td>...</td>\n",
       "      <td>...</td>\n",
       "    </tr>\n",
       "    <tr>\n",
       "      <th>5038</th>\n",
       "      <td>Color</td>\n",
       "      <td>Scott Smith</td>\n",
       "      <td>1.0</td>\n",
       "      <td>87.0</td>\n",
       "      <td>2.0</td>\n",
       "      <td>318.0</td>\n",
       "      <td>Daphne Zuniga</td>\n",
       "      <td>637.0</td>\n",
       "      <td>NaN</td>\n",
       "      <td>Comedy|Drama</td>\n",
       "      <td>...</td>\n",
       "      <td>6.0</td>\n",
       "      <td>English</td>\n",
       "      <td>Canada</td>\n",
       "      <td>NaN</td>\n",
       "      <td>NaN</td>\n",
       "      <td>2013.0</td>\n",
       "      <td>470.0</td>\n",
       "      <td>7.7</td>\n",
       "      <td>NaN</td>\n",
       "      <td>84</td>\n",
       "    </tr>\n",
       "    <tr>\n",
       "      <th>5039</th>\n",
       "      <td>Color</td>\n",
       "      <td>NaN</td>\n",
       "      <td>43.0</td>\n",
       "      <td>43.0</td>\n",
       "      <td>NaN</td>\n",
       "      <td>319.0</td>\n",
       "      <td>Valorie Curry</td>\n",
       "      <td>841.0</td>\n",
       "      <td>NaN</td>\n",
       "      <td>Crime|Drama|Mystery|Thriller</td>\n",
       "      <td>...</td>\n",
       "      <td>359.0</td>\n",
       "      <td>English</td>\n",
       "      <td>USA</td>\n",
       "      <td>TV-14</td>\n",
       "      <td>NaN</td>\n",
       "      <td>NaN</td>\n",
       "      <td>593.0</td>\n",
       "      <td>7.5</td>\n",
       "      <td>16.00</td>\n",
       "      <td>32000</td>\n",
       "    </tr>\n",
       "    <tr>\n",
       "      <th>5040</th>\n",
       "      <td>Color</td>\n",
       "      <td>Benjamin Roberds</td>\n",
       "      <td>13.0</td>\n",
       "      <td>76.0</td>\n",
       "      <td>0.0</td>\n",
       "      <td>0.0</td>\n",
       "      <td>Maxwell Moody</td>\n",
       "      <td>0.0</td>\n",
       "      <td>NaN</td>\n",
       "      <td>Drama|Horror|Thriller</td>\n",
       "      <td>...</td>\n",
       "      <td>3.0</td>\n",
       "      <td>English</td>\n",
       "      <td>USA</td>\n",
       "      <td>NaN</td>\n",
       "      <td>1400.0</td>\n",
       "      <td>2013.0</td>\n",
       "      <td>0.0</td>\n",
       "      <td>6.3</td>\n",
       "      <td>NaN</td>\n",
       "      <td>16</td>\n",
       "    </tr>\n",
       "    <tr>\n",
       "      <th>5041</th>\n",
       "      <td>Color</td>\n",
       "      <td>Daniel Hsia</td>\n",
       "      <td>14.0</td>\n",
       "      <td>100.0</td>\n",
       "      <td>0.0</td>\n",
       "      <td>489.0</td>\n",
       "      <td>Daniel Henney</td>\n",
       "      <td>946.0</td>\n",
       "      <td>10443.0</td>\n",
       "      <td>Comedy|Drama|Romance</td>\n",
       "      <td>...</td>\n",
       "      <td>9.0</td>\n",
       "      <td>English</td>\n",
       "      <td>USA</td>\n",
       "      <td>PG-13</td>\n",
       "      <td>NaN</td>\n",
       "      <td>2012.0</td>\n",
       "      <td>719.0</td>\n",
       "      <td>6.3</td>\n",
       "      <td>2.35</td>\n",
       "      <td>660</td>\n",
       "    </tr>\n",
       "    <tr>\n",
       "      <th>5042</th>\n",
       "      <td>Color</td>\n",
       "      <td>Jon Gunn</td>\n",
       "      <td>43.0</td>\n",
       "      <td>90.0</td>\n",
       "      <td>16.0</td>\n",
       "      <td>16.0</td>\n",
       "      <td>Brian Herzlinger</td>\n",
       "      <td>86.0</td>\n",
       "      <td>85222.0</td>\n",
       "      <td>Documentary</td>\n",
       "      <td>...</td>\n",
       "      <td>84.0</td>\n",
       "      <td>English</td>\n",
       "      <td>USA</td>\n",
       "      <td>PG</td>\n",
       "      <td>1100.0</td>\n",
       "      <td>2004.0</td>\n",
       "      <td>23.0</td>\n",
       "      <td>6.6</td>\n",
       "      <td>1.85</td>\n",
       "      <td>456</td>\n",
       "    </tr>\n",
       "  </tbody>\n",
       "</table>\n",
       "<p>5043 rows × 28 columns</p>\n",
       "</div>"
      ],
      "text/plain": [
       "      color      director_name  num_critic_for_reviews  duration  \\\n",
       "0     Color      James Cameron                   723.0     178.0   \n",
       "1     Color     Gore Verbinski                   302.0     169.0   \n",
       "2     Color         Sam Mendes                   602.0     148.0   \n",
       "3     Color  Christopher Nolan                   813.0     164.0   \n",
       "4       NaN        Doug Walker                     NaN       NaN   \n",
       "...     ...                ...                     ...       ...   \n",
       "5038  Color        Scott Smith                     1.0      87.0   \n",
       "5039  Color                NaN                    43.0      43.0   \n",
       "5040  Color   Benjamin Roberds                    13.0      76.0   \n",
       "5041  Color        Daniel Hsia                    14.0     100.0   \n",
       "5042  Color           Jon Gunn                    43.0      90.0   \n",
       "\n",
       "      director_facebook_likes  actor_3_facebook_likes      actor_2_name  \\\n",
       "0                         0.0                   855.0  Joel David Moore   \n",
       "1                       563.0                  1000.0     Orlando Bloom   \n",
       "2                         0.0                   161.0      Rory Kinnear   \n",
       "3                     22000.0                 23000.0    Christian Bale   \n",
       "4                       131.0                     NaN        Rob Walker   \n",
       "...                       ...                     ...               ...   \n",
       "5038                      2.0                   318.0     Daphne Zuniga   \n",
       "5039                      NaN                   319.0     Valorie Curry   \n",
       "5040                      0.0                     0.0     Maxwell Moody   \n",
       "5041                      0.0                   489.0     Daniel Henney   \n",
       "5042                     16.0                    16.0  Brian Herzlinger   \n",
       "\n",
       "      actor_1_facebook_likes        gross                           genres  \\\n",
       "0                     1000.0  760505847.0  Action|Adventure|Fantasy|Sci-Fi   \n",
       "1                    40000.0  309404152.0         Action|Adventure|Fantasy   \n",
       "2                    11000.0  200074175.0        Action|Adventure|Thriller   \n",
       "3                    27000.0  448130642.0                  Action|Thriller   \n",
       "4                      131.0          NaN                      Documentary   \n",
       "...                      ...          ...                              ...   \n",
       "5038                   637.0          NaN                     Comedy|Drama   \n",
       "5039                   841.0          NaN     Crime|Drama|Mystery|Thriller   \n",
       "5040                     0.0          NaN            Drama|Horror|Thriller   \n",
       "5041                   946.0      10443.0             Comedy|Drama|Romance   \n",
       "5042                    86.0      85222.0                      Documentary   \n",
       "\n",
       "      ... num_user_for_reviews language  country  content_rating       budget  \\\n",
       "0     ...               3054.0  English      USA           PG-13  237000000.0   \n",
       "1     ...               1238.0  English      USA           PG-13  300000000.0   \n",
       "2     ...                994.0  English       UK           PG-13  245000000.0   \n",
       "3     ...               2701.0  English      USA           PG-13  250000000.0   \n",
       "4     ...                  NaN      NaN      NaN             NaN          NaN   \n",
       "...   ...                  ...      ...      ...             ...          ...   \n",
       "5038  ...                  6.0  English   Canada             NaN          NaN   \n",
       "5039  ...                359.0  English      USA           TV-14          NaN   \n",
       "5040  ...                  3.0  English      USA             NaN       1400.0   \n",
       "5041  ...                  9.0  English      USA           PG-13          NaN   \n",
       "5042  ...                 84.0  English      USA              PG       1100.0   \n",
       "\n",
       "      title_year actor_2_facebook_likes imdb_score  aspect_ratio  \\\n",
       "0         2009.0                  936.0        7.9          1.78   \n",
       "1         2007.0                 5000.0        7.1          2.35   \n",
       "2         2015.0                  393.0        6.8          2.35   \n",
       "3         2012.0                23000.0        8.5          2.35   \n",
       "4            NaN                   12.0        7.1           NaN   \n",
       "...          ...                    ...        ...           ...   \n",
       "5038      2013.0                  470.0        7.7           NaN   \n",
       "5039         NaN                  593.0        7.5         16.00   \n",
       "5040      2013.0                    0.0        6.3           NaN   \n",
       "5041      2012.0                  719.0        6.3          2.35   \n",
       "5042      2004.0                   23.0        6.6          1.85   \n",
       "\n",
       "     movie_facebook_likes  \n",
       "0                   33000  \n",
       "1                       0  \n",
       "2                   85000  \n",
       "3                  164000  \n",
       "4                       0  \n",
       "...                   ...  \n",
       "5038                   84  \n",
       "5039                32000  \n",
       "5040                   16  \n",
       "5041                  660  \n",
       "5042                  456  \n",
       "\n",
       "[5043 rows x 28 columns]"
      ]
     },
     "execution_count": 176,
     "metadata": {},
     "output_type": "execute_result"
    }
   ],
   "source": [
    "#Import dependencies\n",
    "import pandas as pd\n",
    "import matplotlib.pyplot as plt\n",
    "import numpy as np\n",
    "import seaborn as sns\n",
    "import scipy.stats as stats\n",
    "from sklearn.linear_model import LinearRegression\n",
    "from sklearn.preprocessing import PolynomialFeatures\n",
    "# %matplotlib notebook\n",
    "#Import data\n",
    "csv_data = pd.read_csv(\"Resources/movie_metadata.csv\", encoding=\"utf-8\")\n",
    "df = pd.DataFrame(csv_data)\n",
    "df"
   ]
  },
  {
   "cell_type": "code",
   "execution_count": 2,
   "metadata": {
    "scrolled": true
   },
   "outputs": [
    {
     "data": {
      "text/plain": [
       "color                        5024\n",
       "director_name                4939\n",
       "num_critic_for_reviews       4993\n",
       "duration                     5028\n",
       "director_facebook_likes      4939\n",
       "actor_3_facebook_likes       5020\n",
       "actor_2_name                 5030\n",
       "actor_1_facebook_likes       5036\n",
       "gross                        4159\n",
       "genres                       5043\n",
       "actor_1_name                 5036\n",
       "movie_title                  5043\n",
       "num_voted_users              5043\n",
       "cast_total_facebook_likes    5043\n",
       "actor_3_name                 5020\n",
       "facenumber_in_poster         5030\n",
       "plot_keywords                4890\n",
       "movie_imdb_link              5043\n",
       "num_user_for_reviews         5022\n",
       "language                     5031\n",
       "country                      5038\n",
       "content_rating               4740\n",
       "budget                       4551\n",
       "title_year                   4935\n",
       "actor_2_facebook_likes       5030\n",
       "imdb_score                   5043\n",
       "aspect_ratio                 4714\n",
       "movie_facebook_likes         5043\n",
       "dtype: int64"
      ]
     },
     "execution_count": 2,
     "metadata": {},
     "output_type": "execute_result"
    }
   ],
   "source": [
    "df.count()"
   ]
  },
  {
   "cell_type": "code",
   "execution_count": 3,
   "metadata": {
    "scrolled": true
   },
   "outputs": [],
   "source": [
    "# delete all the rows with missing values\n",
    "df_clean=df.dropna()"
   ]
  },
  {
   "cell_type": "code",
   "execution_count": 56,
   "metadata": {},
   "outputs": [],
   "source": [
    "# select columns of interest to create new dataframe\n",
    "imdb=df_clean[[\"movie_title\",\"imdb_score\",\"duration\",\"content_rating\",\"budget\",\"aspect_ratio\",\"title_year\",\"country\",\"language\",\"gross\"]].sort_values(by=[\"imdb_score\"],ascending=False)"
   ]
  },
  {
   "cell_type": "code",
   "execution_count": 95,
   "metadata": {},
   "outputs": [],
   "source": [
    "imdb[\"profit\"]=imdb[\"gross\"]-imdb[\"budget\"]"
   ]
  },
  {
   "cell_type": "code",
   "execution_count": 96,
   "metadata": {
    "scrolled": true
   },
   "outputs": [
    {
     "data": {
      "text/html": [
       "<div>\n",
       "<style scoped>\n",
       "    .dataframe tbody tr th:only-of-type {\n",
       "        vertical-align: middle;\n",
       "    }\n",
       "\n",
       "    .dataframe tbody tr th {\n",
       "        vertical-align: top;\n",
       "    }\n",
       "\n",
       "    .dataframe thead th {\n",
       "        text-align: right;\n",
       "    }\n",
       "</style>\n",
       "<table border=\"1\" class=\"dataframe\">\n",
       "  <thead>\n",
       "    <tr style=\"text-align: right;\">\n",
       "      <th></th>\n",
       "      <th>movie_title</th>\n",
       "      <th>imdb_score</th>\n",
       "      <th>duration</th>\n",
       "      <th>content_rating</th>\n",
       "      <th>budget</th>\n",
       "      <th>aspect_ratio</th>\n",
       "      <th>title_year</th>\n",
       "      <th>country</th>\n",
       "      <th>language</th>\n",
       "      <th>gross</th>\n",
       "      <th>profit</th>\n",
       "    </tr>\n",
       "  </thead>\n",
       "  <tbody>\n",
       "    <tr>\n",
       "      <th>1937</th>\n",
       "      <td>The Shawshank Redemption</td>\n",
       "      <td>9.3</td>\n",
       "      <td>142.0</td>\n",
       "      <td>R</td>\n",
       "      <td>25000000.0</td>\n",
       "      <td>1.85</td>\n",
       "      <td>1994.0</td>\n",
       "      <td>USA</td>\n",
       "      <td>English</td>\n",
       "      <td>28341469.0</td>\n",
       "      <td>3341469.0</td>\n",
       "    </tr>\n",
       "    <tr>\n",
       "      <th>3466</th>\n",
       "      <td>The Godfather</td>\n",
       "      <td>9.2</td>\n",
       "      <td>175.0</td>\n",
       "      <td>R</td>\n",
       "      <td>6000000.0</td>\n",
       "      <td>1.85</td>\n",
       "      <td>1972.0</td>\n",
       "      <td>USA</td>\n",
       "      <td>English</td>\n",
       "      <td>134821952.0</td>\n",
       "      <td>128821952.0</td>\n",
       "    </tr>\n",
       "    <tr>\n",
       "      <th>66</th>\n",
       "      <td>The Dark Knight</td>\n",
       "      <td>9.0</td>\n",
       "      <td>152.0</td>\n",
       "      <td>PG-13</td>\n",
       "      <td>185000000.0</td>\n",
       "      <td>2.35</td>\n",
       "      <td>2008.0</td>\n",
       "      <td>USA</td>\n",
       "      <td>English</td>\n",
       "      <td>533316061.0</td>\n",
       "      <td>348316061.0</td>\n",
       "    </tr>\n",
       "    <tr>\n",
       "      <th>2837</th>\n",
       "      <td>The Godfather: Part II</td>\n",
       "      <td>9.0</td>\n",
       "      <td>220.0</td>\n",
       "      <td>R</td>\n",
       "      <td>13000000.0</td>\n",
       "      <td>1.85</td>\n",
       "      <td>1974.0</td>\n",
       "      <td>USA</td>\n",
       "      <td>English</td>\n",
       "      <td>57300000.0</td>\n",
       "      <td>44300000.0</td>\n",
       "    </tr>\n",
       "    <tr>\n",
       "      <th>339</th>\n",
       "      <td>The Lord of the Rings: The Return of the King</td>\n",
       "      <td>8.9</td>\n",
       "      <td>192.0</td>\n",
       "      <td>PG-13</td>\n",
       "      <td>94000000.0</td>\n",
       "      <td>2.35</td>\n",
       "      <td>2003.0</td>\n",
       "      <td>USA</td>\n",
       "      <td>English</td>\n",
       "      <td>377019252.0</td>\n",
       "      <td>283019252.0</td>\n",
       "    </tr>\n",
       "  </tbody>\n",
       "</table>\n",
       "</div>"
      ],
      "text/plain": [
       "                                         movie_title  imdb_score  duration  \\\n",
       "1937                       The Shawshank Redemption          9.3     142.0   \n",
       "3466                                  The Godfather          9.2     175.0   \n",
       "66                                  The Dark Knight          9.0     152.0   \n",
       "2837                         The Godfather: Part II          9.0     220.0   \n",
       "339   The Lord of the Rings: The Return of the King          8.9     192.0   \n",
       "\n",
       "     content_rating       budget  aspect_ratio  title_year country language  \\\n",
       "1937              R   25000000.0          1.85      1994.0     USA  English   \n",
       "3466              R    6000000.0          1.85      1972.0     USA  English   \n",
       "66            PG-13  185000000.0          2.35      2008.0     USA  English   \n",
       "2837              R   13000000.0          1.85      1974.0     USA  English   \n",
       "339           PG-13   94000000.0          2.35      2003.0     USA  English   \n",
       "\n",
       "            gross       profit  \n",
       "1937   28341469.0    3341469.0  \n",
       "3466  134821952.0  128821952.0  \n",
       "66    533316061.0  348316061.0  \n",
       "2837   57300000.0   44300000.0  \n",
       "339   377019252.0  283019252.0  "
      ]
     },
     "execution_count": 96,
     "metadata": {},
     "output_type": "execute_result"
    }
   ],
   "source": [
    "# preview the dataset\n",
    "imdb.head()"
   ]
  },
  {
   "cell_type": "code",
   "execution_count": 66,
   "metadata": {},
   "outputs": [],
   "source": [
    "# clean up content rating. replace \"Unrated\" with \"Not Rated\"\n",
    "imdb[\"content_rating\"]=imdb[\"content_rating\"].replace({\"Unrated\":\"Not Rated\"})"
   ]
  },
  {
   "cell_type": "code",
   "execution_count": 67,
   "metadata": {
    "scrolled": true
   },
   "outputs": [],
   "source": [
    "#keep cleaning the dataset by deleting ambiguous content rating\n",
    "imdb_rt=imdb.loc[imdb[\"content_rating\"] != \"Approved\"]\n",
    "imdb_rt=imdb_rt.loc[imdb_rt[\"content_rating\"] != \"X\"]\n",
    "imdb_rt=imdb_rt.loc[imdb_rt[\"content_rating\"] != \"Passed\"]\n",
    "imdb_rt=imdb_rt.loc[imdb_rt[\"content_rating\"] != \"M\"] \n",
    "imdb_rt=imdb_rt.loc[imdb_rt[\"content_rating\"] != \"GP\"]"
   ]
  },
  {
   "cell_type": "code",
   "execution_count": 68,
   "metadata": {
    "scrolled": true
   },
   "outputs": [
    {
     "data": {
      "text/plain": [
       "R            1700\n",
       "PG-13        1308\n",
       "PG            566\n",
       "G              87\n",
       "Not Rated      56\n",
       "NC-17           6\n",
       "Name: content_rating, dtype: int64"
      ]
     },
     "execution_count": 68,
     "metadata": {},
     "output_type": "execute_result"
    }
   ],
   "source": [
    "#\n",
    "imdb_rt[\"content_rating\"].value_counts()"
   ]
  },
  {
   "cell_type": "code",
   "execution_count": 75,
   "metadata": {},
   "outputs": [
    {
     "data": {
      "text/plain": [
       "2002.0    190\n",
       "2006.0    189\n",
       "2008.0    182\n",
       "2005.0    182\n",
       "2009.0    182\n",
       "         ... \n",
       "1962.0      1\n",
       "1933.0      1\n",
       "1959.0      1\n",
       "1952.0      1\n",
       "1939.0      1\n",
       "Name: title_year, Length: 65, dtype: int64"
      ]
     },
     "execution_count": 75,
     "metadata": {},
     "output_type": "execute_result"
    }
   ],
   "source": [
    "imdb_rt[\"title_year\"].value_counts()"
   ]
  },
  {
   "cell_type": "code",
   "execution_count": 60,
   "metadata": {
    "scrolled": true
   },
   "outputs": [
    {
     "data": {
      "text/html": [
       "<div>\n",
       "<style scoped>\n",
       "    .dataframe tbody tr th:only-of-type {\n",
       "        vertical-align: middle;\n",
       "    }\n",
       "\n",
       "    .dataframe tbody tr th {\n",
       "        vertical-align: top;\n",
       "    }\n",
       "\n",
       "    .dataframe thead th {\n",
       "        text-align: right;\n",
       "    }\n",
       "</style>\n",
       "<table border=\"1\" class=\"dataframe\">\n",
       "  <thead>\n",
       "    <tr style=\"text-align: right;\">\n",
       "      <th></th>\n",
       "      <th>imdb_score</th>\n",
       "      <th>duration</th>\n",
       "      <th>budget</th>\n",
       "      <th>aspect_ratio</th>\n",
       "      <th>title_year</th>\n",
       "      <th>gross</th>\n",
       "    </tr>\n",
       "  </thead>\n",
       "  <tbody>\n",
       "    <tr>\n",
       "      <th>count</th>\n",
       "      <td>3723.000000</td>\n",
       "      <td>3723.000000</td>\n",
       "      <td>3.723000e+03</td>\n",
       "      <td>3723.000000</td>\n",
       "      <td>3723.000000</td>\n",
       "      <td>3.723000e+03</td>\n",
       "    </tr>\n",
       "    <tr>\n",
       "      <th>mean</th>\n",
       "      <td>6.459361</td>\n",
       "      <td>110.229922</td>\n",
       "      <td>4.660233e+07</td>\n",
       "      <td>2.113049</td>\n",
       "      <td>2003.312651</td>\n",
       "      <td>5.276966e+07</td>\n",
       "    </tr>\n",
       "    <tr>\n",
       "      <th>std</th>\n",
       "      <td>1.056250</td>\n",
       "      <td>22.464870</td>\n",
       "      <td>2.269758e+08</td>\n",
       "      <td>0.351634</td>\n",
       "      <td>9.132967</td>\n",
       "      <td>7.051319e+07</td>\n",
       "    </tr>\n",
       "    <tr>\n",
       "      <th>min</th>\n",
       "      <td>1.600000</td>\n",
       "      <td>45.000000</td>\n",
       "      <td>2.180000e+02</td>\n",
       "      <td>1.180000</td>\n",
       "      <td>1927.000000</td>\n",
       "      <td>1.620000e+02</td>\n",
       "    </tr>\n",
       "    <tr>\n",
       "      <th>25%</th>\n",
       "      <td>5.900000</td>\n",
       "      <td>96.000000</td>\n",
       "      <td>1.000000e+07</td>\n",
       "      <td>1.850000</td>\n",
       "      <td>1999.000000</td>\n",
       "      <td>8.340925e+06</td>\n",
       "    </tr>\n",
       "    <tr>\n",
       "      <th>50%</th>\n",
       "      <td>6.600000</td>\n",
       "      <td>106.000000</td>\n",
       "      <td>2.500000e+07</td>\n",
       "      <td>2.350000</td>\n",
       "      <td>2005.000000</td>\n",
       "      <td>3.012796e+07</td>\n",
       "    </tr>\n",
       "    <tr>\n",
       "      <th>75%</th>\n",
       "      <td>7.200000</td>\n",
       "      <td>120.000000</td>\n",
       "      <td>5.000000e+07</td>\n",
       "      <td>2.350000</td>\n",
       "      <td>2010.000000</td>\n",
       "      <td>6.709472e+07</td>\n",
       "    </tr>\n",
       "    <tr>\n",
       "      <th>max</th>\n",
       "      <td>9.300000</td>\n",
       "      <td>330.000000</td>\n",
       "      <td>1.221550e+10</td>\n",
       "      <td>16.000000</td>\n",
       "      <td>2016.000000</td>\n",
       "      <td>7.605058e+08</td>\n",
       "    </tr>\n",
       "  </tbody>\n",
       "</table>\n",
       "</div>"
      ],
      "text/plain": [
       "        imdb_score     duration        budget  aspect_ratio   title_year  \\\n",
       "count  3723.000000  3723.000000  3.723000e+03   3723.000000  3723.000000   \n",
       "mean      6.459361   110.229922  4.660233e+07      2.113049  2003.312651   \n",
       "std       1.056250    22.464870  2.269758e+08      0.351634     9.132967   \n",
       "min       1.600000    45.000000  2.180000e+02      1.180000  1927.000000   \n",
       "25%       5.900000    96.000000  1.000000e+07      1.850000  1999.000000   \n",
       "50%       6.600000   106.000000  2.500000e+07      2.350000  2005.000000   \n",
       "75%       7.200000   120.000000  5.000000e+07      2.350000  2010.000000   \n",
       "max       9.300000   330.000000  1.221550e+10     16.000000  2016.000000   \n",
       "\n",
       "              gross  \n",
       "count  3.723000e+03  \n",
       "mean   5.276966e+07  \n",
       "std    7.051319e+07  \n",
       "min    1.620000e+02  \n",
       "25%    8.340925e+06  \n",
       "50%    3.012796e+07  \n",
       "75%    6.709472e+07  \n",
       "max    7.605058e+08  "
      ]
     },
     "execution_count": 60,
     "metadata": {},
     "output_type": "execute_result"
    }
   ],
   "source": [
    "imdb_rt.describe()"
   ]
  },
  {
   "cell_type": "markdown",
   "metadata": {},
   "source": [
    "## Exploratory analysis"
   ]
  },
  {
   "cell_type": "code",
   "execution_count": 157,
   "metadata": {
    "scrolled": true
   },
   "outputs": [
    {
     "data": {
      "text/plain": [
       "count    3723.000000\n",
       "mean      110.229922\n",
       "std        22.464870\n",
       "min        45.000000\n",
       "25%        96.000000\n",
       "50%       106.000000\n",
       "75%       120.000000\n",
       "max       330.000000\n",
       "Name: duration, dtype: float64"
      ]
     },
     "execution_count": 157,
     "metadata": {},
     "output_type": "execute_result"
    }
   ],
   "source": [
    "#duration statistics for movie length\n",
    "imdb_rt[\"duration\"].describe()"
   ]
  },
  {
   "cell_type": "code",
   "execution_count": 156,
   "metadata": {
    "scrolled": false
   },
   "outputs": [
    {
     "data": {
      "image/png": "[encoded data removed]",
      "text/plain": [
       "<Figure size 432x288 with 1 Axes>"
      ]
     },
     "metadata": {
      "needs_background": "light"
     },
     "output_type": "display_data"
    }
   ],
   "source": [
    "imdb_rt_group=imdb_rt.groupby([\"title_year\"])\n",
    "# Store the Mean \n",
    "rt_mean=imdb_rt_group[\"imdb_score\"].mean()\n",
    "# Convert to DataFrame\n",
    "rt_mean_df=pd.DataFrame(rt_mean).reset_index()\n",
    "# Preview DataFrame\n",
    "rt_mean_df.head()\n",
    "\n",
    "#Mean IMDB score over the years\n",
    "rt_mean_df.plot.line(\"title_year\",\"imdb_score\")\n",
    "x = rt_mean_df['title_year']\n",
    "y = rt_mean_df['imdb_score']\n",
    "plt.scatter(x, y)\n",
    "#add trendline for the mean IMDB score\n",
    "z = np.polyfit(x, y, 1)\n",
    "trendline = np.poly1d(z)\n",
    "plt.xlabel(\"Year\")\n",
    "plt.ylabel(\"IMDB Score\")\n",
    "plt.title(\"Mean of IMDB Score over the Years\")\n",
    "plt.plot(x,p(x),\"r--\")\n",
    "plt.savefig(\"Images/Mean of IMDB over Years.png\")\n",
    "plt.show()\n"
   ]
  },
  {
   "cell_type": "markdown",
   "metadata": {},
   "source": [
    "It indicates that mean IMDB score decreased over the years. And there is a sharp decline in the mid 50s."
   ]
  },
  {
   "cell_type": "code",
   "execution_count": 174,
   "metadata": {
    "scrolled": true
   },
   "outputs": [
    {
     "data": {
      "image/png": "[encoded data removed]",
      "text/plain": [
       "<Figure size 432x288 with 1 Axes>"
      ]
     },
     "metadata": {
      "needs_background": "light"
     },
     "output_type": "display_data"
    }
   ],
   "source": [
    "\n",
    "year=imdb_rt[\"title_year\"].unique().astype(int)\n",
    "year=sorted(year)\n",
    "\n",
    "\n",
    "num_movie_yr=[]\n",
    "for i in year:\n",
    "    tmp=imdb_rt.imdb_score[imdb_rt.title_year==i]\n",
    "    num_movie_yr.append(len(tmp))\n",
    "#Mean IMDB score over the years\n",
    "# plt.line(year,num_movie_yr)\n",
    "\n",
    "plt.plot(year, num_movie_yr)\n",
    "plt.scatter(year, num_movie_yr)\n",
    "#add trendline for the mean IMDB score\n",
    "z = np.polyfit(year, num_movie_yr, 1)\n",
    "p = np.poly1d(z)\n",
    "plt.xlabel(\"Year\")\n",
    "plt.ylabel(\"Number of Movies\")\n",
    "plt.title(\"Number of Movies Released over Years\")\n",
    "plt.plot(year,p(year),\"r--\")\n",
    "plt.savefig(\"Images/Number of Movies Released over Years.png\")\n",
    "plt.show()\n"
   ]
  },
  {
   "cell_type": "markdown",
   "metadata": {},
   "source": [
    "Combine this graph and the imdb score trend graph, it demonstrates that producers pay much attention to the quantity of movies instead of quality."
   ]
  },
  {
   "cell_type": "code",
   "execution_count": 148,
   "metadata": {},
   "outputs": [
    {
     "data": {
      "image/png": "[encoded data removed]",
      "text/plain": [
       "<Figure size 432x288 with 1 Axes>"
      ]
     },
     "metadata": {
      "needs_background": "light"
     },
     "output_type": "display_data"
    }
   ],
   "source": [
    "imdb_rt_group=imdb_rt.groupby([\"content_rating\"])\n",
    "# Store the Mean and SEM\n",
    "rt_mean=imdb_rt_group[\"imdb_score\"].mean()\n",
    "rt_sem=imdb_rt_group[\"imdb_score\"].sem()\n",
    "# Convert to DataFrame\n",
    "rt_mean_df=pd.DataFrame(rt_mean).reset_index()\n",
    "rt_sem_df=pd.DataFrame(rt_sem).reset_index()\n",
    "content_rt=imdb_rt[\"content_rating\"].unique()\n",
    "content_rt\n",
    "x_axis = np.arange(len(content_rt))\n",
    "plt.bar(x_axis,rt_mean_df[\"imdb_score\"],yerr=rt_sem_df[\"imdb_score\"],color=\"grey\",alpha=0.5,capsize=10,align=\"center\")\n",
    "tick_locations = [value for value in x_axis]\n",
    "plt.xticks(tick_locations, [\"G\", \"NC-17\", \"Not Rated\", \"PG\", \"PG-13\", \"R\"])\n",
    "plt.xlim(-0.75, len(x_axis)-0.25)\n",
    "plt.ylim(5, 7.5)\n",
    "\n",
    "# Set up the x_axis and y_axis limits\n",
    "\n",
    "plt.grid()\n",
    "plt.title(\"Mean IMDB Score over Each Content Rating\")\n",
    "plt.xlabel(\"Content Rating\")\n",
    "plt.ylabel(\"Mean IMDB Score\")\n",
    "plt.savefig(\"Images/Mean IMDB score over Content Rating.png\")\n",
    "plt.show()\n"
   ]
  },
  {
   "cell_type": "code",
   "execution_count": 175,
   "metadata": {},
   "outputs": [
    {
     "data": {
      "image/png": "[encoded data removed]",
      "text/plain": [
       "<Figure size 1440x720 with 1 Axes>"
      ]
     },
     "metadata": {
      "needs_background": "light"
     },
     "output_type": "display_data"
    }
   ],
   "source": [
    "imdb_rt.boxplot(\"imdb_score\",by=\"content_rating\",figsize=(20,10))\n",
    "plt.grid()\n",
    "plt.title(\"IMDB Score over Each Content Rating\")\n",
    "plt.xlabel(\"Content Rating\")\n",
    "plt.ylabel(\"IMDB Score\")\n",
    "plt.savefig(\"Images/IMDB score over Content Rating_boxplot.png\")\n",
    "plt.show()\n"
   ]
  },
  {
   "cell_type": "code",
   "execution_count": 141,
   "metadata": {},
   "outputs": [],
   "source": [
    "# Extract individual groups\n",
    "group1 = df[df[\"content_rating\"] == \"G\"][\"imdb_score\"]\n",
    "group2 = df[df[\"content_rating\"] == \"NC-17\"][\"imdb_score\"]\n",
    "group3 = df[df[\"content_rating\"] == \"Not Rated\"][\"imdb_score\"]\n",
    "group4 = df[df[\"content_rating\"] == \"PG\"][\"imdb_score\"]\n",
    "group5 = df[df[\"content_rating\"] == \"PG-13\"][\"imdb_score\"]\n",
    "group6 = df[df[\"content_rating\"] == \"R\"][\"imdb_score\"]"
   ]
  },
  {
   "cell_type": "code",
   "execution_count": 142,
   "metadata": {
    "scrolled": true
   },
   "outputs": [
    {
     "data": {
      "text/plain": [
       "F_onewayResult(statistic=13.230863195290338, pvalue=8.038882820707267e-13)"
      ]
     },
     "execution_count": 142,
     "metadata": {},
     "output_type": "execute_result"
    }
   ],
   "source": [
    "# Perform the ANOVA\n",
    "stats.f_oneway(group1, group2, group3, group4, group5,group6)"
   ]
  },
  {
   "cell_type": "markdown",
   "metadata": {},
   "source": [
    "P-value is less than 0.05, so the IMDB scores are significantly different among 6 content ratings."
   ]
  },
  {
   "cell_type": "code",
   "execution_count": null,
   "metadata": {},
   "outputs": [],
   "source": []
  },
  {
   "cell_type": "code",
   "execution_count": null,
   "metadata": {},
   "outputs": [],
   "source": []
  },
  {
   "cell_type": "code",
   "execution_count": null,
   "metadata": {},
   "outputs": [],
   "source": []
  },
  {
   "cell_type": "markdown",
   "metadata": {},
   "source": [
    "Reference:\n",
    "1) Trendline for Mean IMDB Score over Years was taken from the stackoverflow answer below:  \n",
    "    https://stackoverflow.com/questions/26447191/how-to-add-trendline-in-python-matplotlib-dot-scatter-graphs\n",
    "2) Number of Movie by Year was taken from below link:\n",
    "    https://www.kaggle.com/aninda123/imdb-movie-analysis"
   ]
  }
 ],
 "metadata": {
  "kernelspec": {
   "display_name": "Python 3",
   "language": "python",
   "name": "python3"
  },
  "language_info": {
   "codemirror_mode": {
    "name": "ipython",
    "version": 3
   },
   "file_extension": ".py",
   "mimetype": "text/x-python",
   "name": "python",
   "nbconvert_exporter": "python",
   "pygments_lexer": "ipython3",
   "version": "3.7.4"
  }
 },
 "nbformat": 4,
 "nbformat_minor": 2
}
