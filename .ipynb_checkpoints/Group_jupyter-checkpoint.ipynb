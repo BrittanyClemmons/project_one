{
 "cells": [
  {
   "cell_type": "code",
   "execution_count": 1,
   "metadata": {
    "scrolled": true
   },
   "outputs": [
    {
     "data": {
      "text/html": [
       "<div>\n",
       "<style scoped>\n",
       "    .dataframe tbody tr th:only-of-type {\n",
       "        vertical-align: middle;\n",
       "    }\n",
       "\n",
       "    .dataframe tbody tr th {\n",
       "        vertical-align: top;\n",
       "    }\n",
       "\n",
       "    .dataframe thead th {\n",
       "        text-align: right;\n",
       "    }\n",
       "</style>\n",
       "<table border=\"1\" class=\"dataframe\">\n",
       "  <thead>\n",
       "    <tr style=\"text-align: right;\">\n",
       "      <th></th>\n",
       "      <th>color</th>\n",
       "      <th>director_name</th>\n",
       "      <th>num_critic_for_reviews</th>\n",
       "      <th>duration</th>\n",
       "      <th>director_facebook_likes</th>\n",
       "      <th>actor_3_facebook_likes</th>\n",
       "      <th>actor_2_name</th>\n",
       "      <th>actor_1_facebook_likes</th>\n",
       "      <th>gross</th>\n",
       "      <th>genres</th>\n",
       "      <th>...</th>\n",
       "      <th>num_user_for_reviews</th>\n",
       "      <th>language</th>\n",
       "      <th>country</th>\n",
       "      <th>content_rating</th>\n",
       "      <th>budget</th>\n",
       "      <th>title_year</th>\n",
       "      <th>actor_2_facebook_likes</th>\n",
       "      <th>imdb_score</th>\n",
       "      <th>aspect_ratio</th>\n",
       "      <th>movie_facebook_likes</th>\n",
       "    </tr>\n",
       "  </thead>\n",
       "  <tbody>\n",
       "    <tr>\n",
       "      <th>0</th>\n",
       "      <td>Color</td>\n",
       "      <td>James Cameron</td>\n",
       "      <td>723.0</td>\n",
       "      <td>178.0</td>\n",
       "      <td>0.0</td>\n",
       "      <td>855.0</td>\n",
       "      <td>Joel David Moore</td>\n",
       "      <td>1000.0</td>\n",
       "      <td>760505847.0</td>\n",
       "      <td>Action|Adventure|Fantasy|Sci-Fi</td>\n",
       "      <td>...</td>\n",
       "      <td>3054.0</td>\n",
       "      <td>English</td>\n",
       "      <td>USA</td>\n",
       "      <td>PG-13</td>\n",
       "      <td>237000000.0</td>\n",
       "      <td>2009.0</td>\n",
       "      <td>936.0</td>\n",
       "      <td>7.9</td>\n",
       "      <td>1.78</td>\n",
       "      <td>33000</td>\n",
       "    </tr>\n",
       "    <tr>\n",
       "      <th>1</th>\n",
       "      <td>Color</td>\n",
       "      <td>Gore Verbinski</td>\n",
       "      <td>302.0</td>\n",
       "      <td>169.0</td>\n",
       "      <td>563.0</td>\n",
       "      <td>1000.0</td>\n",
       "      <td>Orlando Bloom</td>\n",
       "      <td>40000.0</td>\n",
       "      <td>309404152.0</td>\n",
       "      <td>Action|Adventure|Fantasy</td>\n",
       "      <td>...</td>\n",
       "      <td>1238.0</td>\n",
       "      <td>English</td>\n",
       "      <td>USA</td>\n",
       "      <td>PG-13</td>\n",
       "      <td>300000000.0</td>\n",
       "      <td>2007.0</td>\n",
       "      <td>5000.0</td>\n",
       "      <td>7.1</td>\n",
       "      <td>2.35</td>\n",
       "      <td>0</td>\n",
       "    </tr>\n",
       "    <tr>\n",
       "      <th>2</th>\n",
       "      <td>Color</td>\n",
       "      <td>Sam Mendes</td>\n",
       "      <td>602.0</td>\n",
       "      <td>148.0</td>\n",
       "      <td>0.0</td>\n",
       "      <td>161.0</td>\n",
       "      <td>Rory Kinnear</td>\n",
       "      <td>11000.0</td>\n",
       "      <td>200074175.0</td>\n",
       "      <td>Action|Adventure|Thriller</td>\n",
       "      <td>...</td>\n",
       "      <td>994.0</td>\n",
       "      <td>English</td>\n",
       "      <td>UK</td>\n",
       "      <td>PG-13</td>\n",
       "      <td>245000000.0</td>\n",
       "      <td>2015.0</td>\n",
       "      <td>393.0</td>\n",
       "      <td>6.8</td>\n",
       "      <td>2.35</td>\n",
       "      <td>85000</td>\n",
       "    </tr>\n",
       "    <tr>\n",
       "      <th>3</th>\n",
       "      <td>Color</td>\n",
       "      <td>Christopher Nolan</td>\n",
       "      <td>813.0</td>\n",
       "      <td>164.0</td>\n",
       "      <td>22000.0</td>\n",
       "      <td>23000.0</td>\n",
       "      <td>Christian Bale</td>\n",
       "      <td>27000.0</td>\n",
       "      <td>448130642.0</td>\n",
       "      <td>Action|Thriller</td>\n",
       "      <td>...</td>\n",
       "      <td>2701.0</td>\n",
       "      <td>English</td>\n",
       "      <td>USA</td>\n",
       "      <td>PG-13</td>\n",
       "      <td>250000000.0</td>\n",
       "      <td>2012.0</td>\n",
       "      <td>23000.0</td>\n",
       "      <td>8.5</td>\n",
       "      <td>2.35</td>\n",
       "      <td>164000</td>\n",
       "    </tr>\n",
       "    <tr>\n",
       "      <th>4</th>\n",
       "      <td>NaN</td>\n",
       "      <td>Doug Walker</td>\n",
       "      <td>NaN</td>\n",
       "      <td>NaN</td>\n",
       "      <td>131.0</td>\n",
       "      <td>NaN</td>\n",
       "      <td>Rob Walker</td>\n",
       "      <td>131.0</td>\n",
       "      <td>NaN</td>\n",
       "      <td>Documentary</td>\n",
       "      <td>...</td>\n",
       "      <td>NaN</td>\n",
       "      <td>NaN</td>\n",
       "      <td>NaN</td>\n",
       "      <td>NaN</td>\n",
       "      <td>NaN</td>\n",
       "      <td>NaN</td>\n",
       "      <td>12.0</td>\n",
       "      <td>7.1</td>\n",
       "      <td>NaN</td>\n",
       "      <td>0</td>\n",
       "    </tr>\n",
       "    <tr>\n",
       "      <th>...</th>\n",
       "      <td>...</td>\n",
       "      <td>...</td>\n",
       "      <td>...</td>\n",
       "      <td>...</td>\n",
       "      <td>...</td>\n",
       "      <td>...</td>\n",
       "      <td>...</td>\n",
       "      <td>...</td>\n",
       "      <td>...</td>\n",
       "      <td>...</td>\n",
       "      <td>...</td>\n",
       "      <td>...</td>\n",
       "      <td>...</td>\n",
       "      <td>...</td>\n",
       "      <td>...</td>\n",
       "      <td>...</td>\n",
       "      <td>...</td>\n",
       "      <td>...</td>\n",
       "      <td>...</td>\n",
       "      <td>...</td>\n",
       "      <td>...</td>\n",
       "    </tr>\n",
       "    <tr>\n",
       "      <th>5038</th>\n",
       "      <td>Color</td>\n",
       "      <td>Scott Smith</td>\n",
       "      <td>1.0</td>\n",
       "      <td>87.0</td>\n",
       "      <td>2.0</td>\n",
       "      <td>318.0</td>\n",
       "      <td>Daphne Zuniga</td>\n",
       "      <td>637.0</td>\n",
       "      <td>NaN</td>\n",
       "      <td>Comedy|Drama</td>\n",
       "      <td>...</td>\n",
       "      <td>6.0</td>\n",
       "      <td>English</td>\n",
       "      <td>Canada</td>\n",
       "      <td>NaN</td>\n",
       "      <td>NaN</td>\n",
       "      <td>2013.0</td>\n",
       "      <td>470.0</td>\n",
       "      <td>7.7</td>\n",
       "      <td>NaN</td>\n",
       "      <td>84</td>\n",
       "    </tr>\n",
       "    <tr>\n",
       "      <th>5039</th>\n",
       "      <td>Color</td>\n",
       "      <td>NaN</td>\n",
       "      <td>43.0</td>\n",
       "      <td>43.0</td>\n",
       "      <td>NaN</td>\n",
       "      <td>319.0</td>\n",
       "      <td>Valorie Curry</td>\n",
       "      <td>841.0</td>\n",
       "      <td>NaN</td>\n",
       "      <td>Crime|Drama|Mystery|Thriller</td>\n",
       "      <td>...</td>\n",
       "      <td>359.0</td>\n",
       "      <td>English</td>\n",
       "      <td>USA</td>\n",
       "      <td>TV-14</td>\n",
       "      <td>NaN</td>\n",
       "      <td>NaN</td>\n",
       "      <td>593.0</td>\n",
       "      <td>7.5</td>\n",
       "      <td>16.00</td>\n",
       "      <td>32000</td>\n",
       "    </tr>\n",
       "    <tr>\n",
       "      <th>5040</th>\n",
       "      <td>Color</td>\n",
       "      <td>Benjamin Roberds</td>\n",
       "      <td>13.0</td>\n",
       "      <td>76.0</td>\n",
       "      <td>0.0</td>\n",
       "      <td>0.0</td>\n",
       "      <td>Maxwell Moody</td>\n",
       "      <td>0.0</td>\n",
       "      <td>NaN</td>\n",
       "      <td>Drama|Horror|Thriller</td>\n",
       "      <td>...</td>\n",
       "      <td>3.0</td>\n",
       "      <td>English</td>\n",
       "      <td>USA</td>\n",
       "      <td>NaN</td>\n",
       "      <td>1400.0</td>\n",
       "      <td>2013.0</td>\n",
       "      <td>0.0</td>\n",
       "      <td>6.3</td>\n",
       "      <td>NaN</td>\n",
       "      <td>16</td>\n",
       "    </tr>\n",
       "    <tr>\n",
       "      <th>5041</th>\n",
       "      <td>Color</td>\n",
       "      <td>Daniel Hsia</td>\n",
       "      <td>14.0</td>\n",
       "      <td>100.0</td>\n",
       "      <td>0.0</td>\n",
       "      <td>489.0</td>\n",
       "      <td>Daniel Henney</td>\n",
       "      <td>946.0</td>\n",
       "      <td>10443.0</td>\n",
       "      <td>Comedy|Drama|Romance</td>\n",
       "      <td>...</td>\n",
       "      <td>9.0</td>\n",
       "      <td>English</td>\n",
       "      <td>USA</td>\n",
       "      <td>PG-13</td>\n",
       "      <td>NaN</td>\n",
       "      <td>2012.0</td>\n",
       "      <td>719.0</td>\n",
       "      <td>6.3</td>\n",
       "      <td>2.35</td>\n",
       "      <td>660</td>\n",
       "    </tr>\n",
       "    <tr>\n",
       "      <th>5042</th>\n",
       "      <td>Color</td>\n",
       "      <td>Jon Gunn</td>\n",
       "      <td>43.0</td>\n",
       "      <td>90.0</td>\n",
       "      <td>16.0</td>\n",
       "      <td>16.0</td>\n",
       "      <td>Brian Herzlinger</td>\n",
       "      <td>86.0</td>\n",
       "      <td>85222.0</td>\n",
       "      <td>Documentary</td>\n",
       "      <td>...</td>\n",
       "      <td>84.0</td>\n",
       "      <td>English</td>\n",
       "      <td>USA</td>\n",
       "      <td>PG</td>\n",
       "      <td>1100.0</td>\n",
       "      <td>2004.0</td>\n",
       "      <td>23.0</td>\n",
       "      <td>6.6</td>\n",
       "      <td>1.85</td>\n",
       "      <td>456</td>\n",
       "    </tr>\n",
       "  </tbody>\n",
       "</table>\n",
       "<p>5043 rows × 28 columns</p>\n",
       "</div>"
      ],
      "text/plain": [
       "      color      director_name  num_critic_for_reviews  duration  \\\n",
       "0     Color      James Cameron                   723.0     178.0   \n",
       "1     Color     Gore Verbinski                   302.0     169.0   \n",
       "2     Color         Sam Mendes                   602.0     148.0   \n",
       "3     Color  Christopher Nolan                   813.0     164.0   \n",
       "4       NaN        Doug Walker                     NaN       NaN   \n",
       "...     ...                ...                     ...       ...   \n",
       "5038  Color        Scott Smith                     1.0      87.0   \n",
       "5039  Color                NaN                    43.0      43.0   \n",
       "5040  Color   Benjamin Roberds                    13.0      76.0   \n",
       "5041  Color        Daniel Hsia                    14.0     100.0   \n",
       "5042  Color           Jon Gunn                    43.0      90.0   \n",
       "\n",
       "      director_facebook_likes  actor_3_facebook_likes      actor_2_name  \\\n",
       "0                         0.0                   855.0  Joel David Moore   \n",
       "1                       563.0                  1000.0     Orlando Bloom   \n",
       "2                         0.0                   161.0      Rory Kinnear   \n",
       "3                     22000.0                 23000.0    Christian Bale   \n",
       "4                       131.0                     NaN        Rob Walker   \n",
       "...                       ...                     ...               ...   \n",
       "5038                      2.0                   318.0     Daphne Zuniga   \n",
       "5039                      NaN                   319.0     Valorie Curry   \n",
       "5040                      0.0                     0.0     Maxwell Moody   \n",
       "5041                      0.0                   489.0     Daniel Henney   \n",
       "5042                     16.0                    16.0  Brian Herzlinger   \n",
       "\n",
       "      actor_1_facebook_likes        gross                           genres  \\\n",
       "0                     1000.0  760505847.0  Action|Adventure|Fantasy|Sci-Fi   \n",
       "1                    40000.0  309404152.0         Action|Adventure|Fantasy   \n",
       "2                    11000.0  200074175.0        Action|Adventure|Thriller   \n",
       "3                    27000.0  448130642.0                  Action|Thriller   \n",
       "4                      131.0          NaN                      Documentary   \n",
       "...                      ...          ...                              ...   \n",
       "5038                   637.0          NaN                     Comedy|Drama   \n",
       "5039                   841.0          NaN     Crime|Drama|Mystery|Thriller   \n",
       "5040                     0.0          NaN            Drama|Horror|Thriller   \n",
       "5041                   946.0      10443.0             Comedy|Drama|Romance   \n",
       "5042                    86.0      85222.0                      Documentary   \n",
       "\n",
       "      ... num_user_for_reviews language  country  content_rating       budget  \\\n",
       "0     ...               3054.0  English      USA           PG-13  237000000.0   \n",
       "1     ...               1238.0  English      USA           PG-13  300000000.0   \n",
       "2     ...                994.0  English       UK           PG-13  245000000.0   \n",
       "3     ...               2701.0  English      USA           PG-13  250000000.0   \n",
       "4     ...                  NaN      NaN      NaN             NaN          NaN   \n",
       "...   ...                  ...      ...      ...             ...          ...   \n",
       "5038  ...                  6.0  English   Canada             NaN          NaN   \n",
       "5039  ...                359.0  English      USA           TV-14          NaN   \n",
       "5040  ...                  3.0  English      USA             NaN       1400.0   \n",
       "5041  ...                  9.0  English      USA           PG-13          NaN   \n",
       "5042  ...                 84.0  English      USA              PG       1100.0   \n",
       "\n",
       "      title_year actor_2_facebook_likes imdb_score  aspect_ratio  \\\n",
       "0         2009.0                  936.0        7.9          1.78   \n",
       "1         2007.0                 5000.0        7.1          2.35   \n",
       "2         2015.0                  393.0        6.8          2.35   \n",
       "3         2012.0                23000.0        8.5          2.35   \n",
       "4            NaN                   12.0        7.1           NaN   \n",
       "...          ...                    ...        ...           ...   \n",
       "5038      2013.0                  470.0        7.7           NaN   \n",
       "5039         NaN                  593.0        7.5         16.00   \n",
       "5040      2013.0                    0.0        6.3           NaN   \n",
       "5041      2012.0                  719.0        6.3          2.35   \n",
       "5042      2004.0                   23.0        6.6          1.85   \n",
       "\n",
       "     movie_facebook_likes  \n",
       "0                   33000  \n",
       "1                       0  \n",
       "2                   85000  \n",
       "3                  164000  \n",
       "4                       0  \n",
       "...                   ...  \n",
       "5038                   84  \n",
       "5039                32000  \n",
       "5040                   16  \n",
       "5041                  660  \n",
       "5042                  456  \n",
       "\n",
       "[5043 rows x 28 columns]"
      ]
     },
     "execution_count": 1,
     "metadata": {},
     "output_type": "execute_result"
    }
   ],
   "source": [
    "#Import dependencies\n",
    "import pandas as pd\n",
    "import matplotlib.pyplot as plt\n",
    "import numpy as np\n",
    "import seaborn as sns\n",
    "import scipy.stats as stats\n",
    "from scipy.stats import pearsonr\n",
    "%matplotlib inline\n",
    "#Import data\n",
    "csv_data = pd.read_csv(\"Resources/movie_metadata.csv\", encoding=\"utf-8\")\n",
    "df = pd.DataFrame(csv_data)\n",
    "df"
   ]
  },
  {
   "cell_type": "code",
   "execution_count": 2,
   "metadata": {
    "scrolled": true
   },
   "outputs": [
    {
     "data": {
      "text/plain": [
       "color                        5024\n",
       "director_name                4939\n",
       "num_critic_for_reviews       4993\n",
       "duration                     5028\n",
       "director_facebook_likes      4939\n",
       "actor_3_facebook_likes       5020\n",
       "actor_2_name                 5030\n",
       "actor_1_facebook_likes       5036\n",
       "gross                        4159\n",
       "genres                       5043\n",
       "actor_1_name                 5036\n",
       "movie_title                  5043\n",
       "num_voted_users              5043\n",
       "cast_total_facebook_likes    5043\n",
       "actor_3_name                 5020\n",
       "facenumber_in_poster         5030\n",
       "plot_keywords                4890\n",
       "movie_imdb_link              5043\n",
       "num_user_for_reviews         5022\n",
       "language                     5031\n",
       "country                      5038\n",
       "content_rating               4740\n",
       "budget                       4551\n",
       "title_year                   4935\n",
       "actor_2_facebook_likes       5030\n",
       "imdb_score                   5043\n",
       "aspect_ratio                 4714\n",
       "movie_facebook_likes         5043\n",
       "dtype: int64"
      ]
     },
     "execution_count": 2,
     "metadata": {},
     "output_type": "execute_result"
    }
   ],
   "source": [
    "df.count()"
   ]
  },
  {
   "cell_type": "code",
   "execution_count": 3,
   "metadata": {
    "scrolled": true
   },
   "outputs": [],
   "source": [
    "# delete all the rows with missing values\n",
    "df_clean=df.dropna()"
   ]
  },
  {
   "cell_type": "code",
   "execution_count": 4,
   "metadata": {},
   "outputs": [
    {
     "data": {
      "text/plain": [
       "color                        3756\n",
       "director_name                3756\n",
       "num_critic_for_reviews       3756\n",
       "duration                     3756\n",
       "director_facebook_likes      3756\n",
       "actor_3_facebook_likes       3756\n",
       "actor_2_name                 3756\n",
       "actor_1_facebook_likes       3756\n",
       "gross                        3756\n",
       "genres                       3756\n",
       "actor_1_name                 3756\n",
       "movie_title                  3756\n",
       "num_voted_users              3756\n",
       "cast_total_facebook_likes    3756\n",
       "actor_3_name                 3756\n",
       "facenumber_in_poster         3756\n",
       "plot_keywords                3756\n",
       "movie_imdb_link              3756\n",
       "num_user_for_reviews         3756\n",
       "language                     3756\n",
       "country                      3756\n",
       "content_rating               3756\n",
       "budget                       3756\n",
       "title_year                   3756\n",
       "actor_2_facebook_likes       3756\n",
       "imdb_score                   3756\n",
       "aspect_ratio                 3756\n",
       "movie_facebook_likes         3756\n",
       "dtype: int64"
      ]
     },
     "execution_count": 4,
     "metadata": {},
     "output_type": "execute_result"
    }
   ],
   "source": [
    "df_clean.count()"
   ]
  },
  {
   "cell_type": "code",
   "execution_count": 52,
   "metadata": {},
   "outputs": [],
   "source": [
    "facebook_actors = df_clean.loc[df_clean[\"actor_1_facebook_likes\"] > 50000][\"actor_1_name\"].unique()"
   ]
  },
  {
   "cell_type": "code",
   "execution_count": 53,
   "metadata": {},
   "outputs": [
    {
     "data": {
      "text/plain": [
       "array(['Jimmy Bennett', 'Krista Allen', 'Darcy Donavan',\n",
       "       'Andrew Fiscella', 'Matthew Ziff'], dtype=object)"
      ]
     },
     "execution_count": 53,
     "metadata": {},
     "output_type": "execute_result"
    }
   ],
   "source": [
    "facebook_actors"
   ]
  },
  {
   "cell_type": "code",
   "execution_count": 55,
   "metadata": {},
   "outputs": [],
   "source": [
    "budget_imdb_score = df_clean[[\"budget\", \"imdb_score\"]]"
   ]
  },
  {
   "cell_type": "code",
   "execution_count": 56,
   "metadata": {},
   "outputs": [
    {
     "data": {
      "text/html": [
       "<div>\n",
       "<style scoped>\n",
       "    .dataframe tbody tr th:only-of-type {\n",
       "        vertical-align: middle;\n",
       "    }\n",
       "\n",
       "    .dataframe tbody tr th {\n",
       "        vertical-align: top;\n",
       "    }\n",
       "\n",
       "    .dataframe thead th {\n",
       "        text-align: right;\n",
       "    }\n",
       "</style>\n",
       "<table border=\"1\" class=\"dataframe\">\n",
       "  <thead>\n",
       "    <tr style=\"text-align: right;\">\n",
       "      <th></th>\n",
       "      <th>budget</th>\n",
       "      <th>imdb_score</th>\n",
       "    </tr>\n",
       "  </thead>\n",
       "  <tbody>\n",
       "    <tr>\n",
       "      <th>0</th>\n",
       "      <td>237000000.0</td>\n",
       "      <td>7.9</td>\n",
       "    </tr>\n",
       "    <tr>\n",
       "      <th>1</th>\n",
       "      <td>300000000.0</td>\n",
       "      <td>7.1</td>\n",
       "    </tr>\n",
       "    <tr>\n",
       "      <th>2</th>\n",
       "      <td>245000000.0</td>\n",
       "      <td>6.8</td>\n",
       "    </tr>\n",
       "    <tr>\n",
       "      <th>3</th>\n",
       "      <td>250000000.0</td>\n",
       "      <td>8.5</td>\n",
       "    </tr>\n",
       "    <tr>\n",
       "      <th>5</th>\n",
       "      <td>263700000.0</td>\n",
       "      <td>6.6</td>\n",
       "    </tr>\n",
       "    <tr>\n",
       "      <th>...</th>\n",
       "      <td>...</td>\n",
       "      <td>...</td>\n",
       "    </tr>\n",
       "    <tr>\n",
       "      <th>5026</th>\n",
       "      <td>4500.0</td>\n",
       "      <td>6.9</td>\n",
       "    </tr>\n",
       "    <tr>\n",
       "      <th>5027</th>\n",
       "      <td>10000.0</td>\n",
       "      <td>7.5</td>\n",
       "    </tr>\n",
       "    <tr>\n",
       "      <th>5033</th>\n",
       "      <td>7000.0</td>\n",
       "      <td>7.0</td>\n",
       "    </tr>\n",
       "    <tr>\n",
       "      <th>5035</th>\n",
       "      <td>7000.0</td>\n",
       "      <td>6.9</td>\n",
       "    </tr>\n",
       "    <tr>\n",
       "      <th>5042</th>\n",
       "      <td>1100.0</td>\n",
       "      <td>6.6</td>\n",
       "    </tr>\n",
       "  </tbody>\n",
       "</table>\n",
       "<p>3756 rows × 2 columns</p>\n",
       "</div>"
      ],
      "text/plain": [
       "           budget  imdb_score\n",
       "0     237000000.0         7.9\n",
       "1     300000000.0         7.1\n",
       "2     245000000.0         6.8\n",
       "3     250000000.0         8.5\n",
       "5     263700000.0         6.6\n",
       "...           ...         ...\n",
       "5026       4500.0         6.9\n",
       "5027      10000.0         7.5\n",
       "5033       7000.0         7.0\n",
       "5035       7000.0         6.9\n",
       "5042       1100.0         6.6\n",
       "\n",
       "[3756 rows x 2 columns]"
      ]
     },
     "execution_count": 56,
     "metadata": {},
     "output_type": "execute_result"
    }
   ],
   "source": [
    "budget_imdb_score"
   ]
  },
  {
   "cell_type": "code",
   "execution_count": 57,
   "metadata": {
    "scrolled": true
   },
   "outputs": [],
   "source": [
    "two_hundred_million_plus =  budget_imdb_score.loc[(budget_imdb_score[\"budget\"] > 200000000)]\n",
    "one_to_two_hundred_million =  budget_imdb_score.loc[(budget_imdb_score[\"budget\"] >= 100000000) & (budget_imdb_score[\"budget\"] <= 200000000)]\n",
    "fifty_to_one_hundred_million =  budget_imdb_score.loc[(budget_imdb_score[\"budget\"] >= 50000000) & (budget_imdb_score[\"budget\"] < 100000000)]\n",
    "under_fifty_million =  budget_imdb_score.loc[(budget_imdb_score[\"budget\"] < 50000000)]\n",
    "\n",
    "two_hundred_million_plus_mean_imdb = two_hundred_million_plus[\"imdb_score\"].mean()\n",
    "one_to_two_hundred_million_mean_imdb = one_to_two_hundred_million[\"imdb_score\"].mean()\n",
    "fifty_to_one_hundred_million_mean_imdb = fifty_to_one_hundred_million[\"imdb_score\"].mean()\n",
    "under_fifty_million_mean_imdb = under_fifty_million[\"imdb_score\"].mean()\n",
    "\n",
    "two_hundred_million_plus_sem = two_hundred_million_plus[\"imdb_score\"].sem()\n",
    "one_to_two_hundred_million_sem = one_to_two_hundred_million[\"imdb_score\"].sem()\n",
    "fifty_to_one_hundred_million_sem = fifty_to_one_hundred_million[\"imdb_score\"].sem()\n",
    "under_fifty_million_sem = under_fifty_million[\"imdb_score\"].sem()\n"
   ]
  },
  {
   "cell_type": "code",
   "execution_count": 59,
   "metadata": {},
   "outputs": [
    {
     "data": {
      "image/png": "[encoded data removed]",
      "text/plain": [
       "<Figure size 432x288 with 1 Axes>"
      ]
     },
     "metadata": {
      "needs_background": "light"
     },
     "output_type": "display_data"
    }
   ],
   "source": [
    "\n",
    "ratings = [two_hundred_million_plus_mean_imdb, one_to_two_hundred_million_mean_imdb, fifty_to_one_hundred_million_mean_imdb, under_fifty_million_mean_imdb]\n",
    "ratings_sem = [two_hundred_million_plus_sem, one_to_two_hundred_million_sem, fifty_to_one_hundred_million_sem, under_fifty_million_sem]\n",
    "\n",
    "x_axis = np.arange(len(ratings))\n",
    "plt.bar(x_axis, ratings, yerr = ratings_sem, color='r', alpha=0.5, align=\"center\", capsize=10)\n",
    "tick_locations = [value for value in x_axis]\n",
    "plt.xticks(tick_locations, [\"200 +\", \"100 to 200\", \"50 to 100\", \"under 50\"])\n",
    "plt.xlim(-0.75, len(x_axis)-0.25)\n",
    "plt.ylim(min(ratings)-1, max(ratings)+0.5)\n",
    "\n",
    "plt.title(\"imdb rating based on budget\")\n",
    "plt.xlabel(\"budget (in millions)\")\n",
    "plt.ylabel(\"imdb score\")\n",
    "\n",
    "\n",
    "plt.grid()\n",
    "\n",
    "    \n",
    "plt.show()"
   ]
  },
  {
   "cell_type": "code",
   "execution_count": 60,
   "metadata": {},
   "outputs": [
    {
     "data": {
      "image/png": "[encoded data removed]",
      "text/plain": [
       "<Figure size 432x288 with 1 Axes>"
      ]
     },
     "metadata": {
      "needs_background": "light"
     },
     "output_type": "display_data"
    }
   ],
   "source": [
    "\n",
    "\n",
    "plt.plot(budget_imdb_score[\"budget\"], budget_imdb_score[\"imdb_score\"], color=\"red\", label=\"rating based on budget\")\n",
    "\n",
    "\n",
    "\n",
    "plt.title(\"imdb rating based on budget\")\n",
    "plt.xlabel(\"budget\")\n",
    "plt.ylabel(\"imdb score\")\n",
    "plt.xlim(0,400000000)\n",
    "plt.ylim(0,10)\n",
    "plt.legend(loc=\"best\")\n",
    "plt.grid()\n",
    "\n",
    "    \n",
    "plt.show()"
   ]
  },
  {
   "cell_type": "code",
   "execution_count": null,
   "metadata": {},
   "outputs": [],
   "source": []
  },
  {
   "cell_type": "code",
   "execution_count": null,
   "metadata": {},
   "outputs": [],
   "source": []
  },
  {
   "cell_type": "code",
   "execution_count": 61,
   "metadata": {},
   "outputs": [],
   "source": [
    "revenue_rating = df_clean[[\"budget\", \"gross\", \"content_rating\"]]"
   ]
  },
  {
   "cell_type": "code",
   "execution_count": 62,
   "metadata": {},
   "outputs": [
    {
     "name": "stderr",
     "output_type": "stream",
     "text": [
      "C:\\Users\\Mike\\new\\Anaconda3\\envs\\python1\\lib\\site-packages\\ipykernel_launcher.py:1: SettingWithCopyWarning: \n",
      "A value is trying to be set on a copy of a slice from a DataFrame.\n",
      "Try using .loc[row_indexer,col_indexer] = value instead\n",
      "\n",
      "See the caveats in the documentation: http://pandas.pydata.org/pandas-docs/stable/user_guide/indexing.html#returning-a-view-versus-a-copy\n",
      "  \"\"\"Entry point for launching an IPython kernel.\n"
     ]
    }
   ],
   "source": [
    "revenue_rating[\"revenue\"] = revenue_rating[\"gross\"] - revenue_rating[\"budget\"]"
   ]
  },
  {
   "cell_type": "code",
   "execution_count": 16,
   "metadata": {},
   "outputs": [
    {
     "data": {
      "text/html": [
       "<div>\n",
       "<style scoped>\n",
       "    .dataframe tbody tr th:only-of-type {\n",
       "        vertical-align: middle;\n",
       "    }\n",
       "\n",
       "    .dataframe tbody tr th {\n",
       "        vertical-align: top;\n",
       "    }\n",
       "\n",
       "    .dataframe thead th {\n",
       "        text-align: right;\n",
       "    }\n",
       "</style>\n",
       "<table border=\"1\" class=\"dataframe\">\n",
       "  <thead>\n",
       "    <tr style=\"text-align: right;\">\n",
       "      <th></th>\n",
       "      <th>budget</th>\n",
       "      <th>gross</th>\n",
       "      <th>content_rating</th>\n",
       "      <th>revenue</th>\n",
       "    </tr>\n",
       "  </thead>\n",
       "  <tbody>\n",
       "    <tr>\n",
       "      <th>0</th>\n",
       "      <td>237000000.0</td>\n",
       "      <td>760505847.0</td>\n",
       "      <td>PG-13</td>\n",
       "      <td>523505847.0</td>\n",
       "    </tr>\n",
       "    <tr>\n",
       "      <th>1</th>\n",
       "      <td>300000000.0</td>\n",
       "      <td>309404152.0</td>\n",
       "      <td>PG-13</td>\n",
       "      <td>9404152.0</td>\n",
       "    </tr>\n",
       "    <tr>\n",
       "      <th>2</th>\n",
       "      <td>245000000.0</td>\n",
       "      <td>200074175.0</td>\n",
       "      <td>PG-13</td>\n",
       "      <td>-44925825.0</td>\n",
       "    </tr>\n",
       "    <tr>\n",
       "      <th>3</th>\n",
       "      <td>250000000.0</td>\n",
       "      <td>448130642.0</td>\n",
       "      <td>PG-13</td>\n",
       "      <td>198130642.0</td>\n",
       "    </tr>\n",
       "    <tr>\n",
       "      <th>5</th>\n",
       "      <td>263700000.0</td>\n",
       "      <td>73058679.0</td>\n",
       "      <td>PG-13</td>\n",
       "      <td>-190641321.0</td>\n",
       "    </tr>\n",
       "    <tr>\n",
       "      <th>...</th>\n",
       "      <td>...</td>\n",
       "      <td>...</td>\n",
       "      <td>...</td>\n",
       "      <td>...</td>\n",
       "    </tr>\n",
       "    <tr>\n",
       "      <th>5026</th>\n",
       "      <td>4500.0</td>\n",
       "      <td>136007.0</td>\n",
       "      <td>R</td>\n",
       "      <td>131507.0</td>\n",
       "    </tr>\n",
       "    <tr>\n",
       "      <th>5027</th>\n",
       "      <td>10000.0</td>\n",
       "      <td>673780.0</td>\n",
       "      <td>Not Rated</td>\n",
       "      <td>663780.0</td>\n",
       "    </tr>\n",
       "    <tr>\n",
       "      <th>5033</th>\n",
       "      <td>7000.0</td>\n",
       "      <td>424760.0</td>\n",
       "      <td>PG-13</td>\n",
       "      <td>417760.0</td>\n",
       "    </tr>\n",
       "    <tr>\n",
       "      <th>5035</th>\n",
       "      <td>7000.0</td>\n",
       "      <td>2040920.0</td>\n",
       "      <td>R</td>\n",
       "      <td>2033920.0</td>\n",
       "    </tr>\n",
       "    <tr>\n",
       "      <th>5042</th>\n",
       "      <td>1100.0</td>\n",
       "      <td>85222.0</td>\n",
       "      <td>PG</td>\n",
       "      <td>84122.0</td>\n",
       "    </tr>\n",
       "  </tbody>\n",
       "</table>\n",
       "<p>3756 rows × 4 columns</p>\n",
       "</div>"
      ],
      "text/plain": [
       "           budget        gross content_rating      revenue\n",
       "0     237000000.0  760505847.0          PG-13  523505847.0\n",
       "1     300000000.0  309404152.0          PG-13    9404152.0\n",
       "2     245000000.0  200074175.0          PG-13  -44925825.0\n",
       "3     250000000.0  448130642.0          PG-13  198130642.0\n",
       "5     263700000.0   73058679.0          PG-13 -190641321.0\n",
       "...           ...          ...            ...          ...\n",
       "5026       4500.0     136007.0              R     131507.0\n",
       "5027      10000.0     673780.0      Not Rated     663780.0\n",
       "5033       7000.0     424760.0          PG-13     417760.0\n",
       "5035       7000.0    2040920.0              R    2033920.0\n",
       "5042       1100.0      85222.0             PG      84122.0\n",
       "\n",
       "[3756 rows x 4 columns]"
      ]
     },
     "execution_count": 16,
     "metadata": {},
     "output_type": "execute_result"
    }
   ],
   "source": [
    "revenue_rating"
   ]
  },
  {
   "cell_type": "code",
   "execution_count": 17,
   "metadata": {},
   "outputs": [],
   "source": [
    "g = revenue_rating.loc[revenue_rating[\"content_rating\"] == \"G\"]\n",
    "pg = revenue_rating.loc[revenue_rating[\"content_rating\"] == \"PG\"]\n",
    "pg_13 = revenue_rating.loc[revenue_rating[\"content_rating\"] == \"PG-13\"]\n",
    "r = revenue_rating.loc[revenue_rating[\"content_rating\"] == \"R\"]\n",
    "notRated = revenue_rating.loc[(revenue_rating[\"content_rating\"] == \"Not Rated\") | (revenue_rating[\"content_rating\"] == \"Unrated\")]\n",
    "NC_17 = revenue_rating.loc[(revenue_rating[\"content_rating\"] == \"NC-17\")]\n",
    " \n",
    "g_revenue = g[\"revenue\"].mean()\n",
    "pg_revenue = pg[\"revenue\"].mean()\n",
    "pg_13_revenue = pg_13[\"revenue\"].mean()\n",
    "r_revenue = r[\"revenue\"].mean()\n",
    "notRated_revenue = notRated[\"revenue\"].mean()\n",
    "NC_17_revenue = NC_17[\"revenue\"].mean()\n",
    "                           \n",
    "g_revenue_sem = g[\"revenue\"].sem()\n",
    "pg_revenue_sem = pg[\"revenue\"].sem()\n",
    "pg_13_revenue_sem = pg_13[\"revenue\"].sem()\n",
    "r_revenue_sem = r[\"revenue\"].sem()\n",
    "notRated_revenue_sem = notRated[\"revenue\"].sem()\n",
    "NC_17_revenue_sem = notRated[\"revenue\"].sem()                   "
   ]
  },
  {
   "cell_type": "code",
   "execution_count": 18,
   "metadata": {},
   "outputs": [
    {
     "name": "stderr",
     "output_type": "stream",
     "text": [
      "No handles with labels found to put in legend.\n"
     ]
    },
    {
     "data": {
      "image/png": "[encoded data removed]",
      "text/plain": [
       "<Figure size 432x288 with 1 Axes>"
      ]
     },
     "metadata": {
      "needs_background": "light"
     },
     "output_type": "display_data"
    }
   ],
   "source": [
    "ratings_revenue = [g_revenue, pg_revenue, pg_13_revenue, r_revenue, NC_17_revenue, notRated_revenue]\n",
    "ratings_revenue_sem = [g_revenue_sem, pg_revenue_sem, pg_13_revenue_sem, r_revenue_sem, NC_17_revenue_sem, notRated_revenue_sem]\n",
    "\n",
    "x_axis = np.arange(len(ratings_revenue))\n",
    "plt.bar(x_axis, ratings_revenue, yerr = ratings_revenue_sem, color='r', alpha=0.5, align=\"center\", capsize=10)\n",
    "tick_locations = [value for value in x_axis]\n",
    "plt.xticks(tick_locations, [\"G\", \"PG\", \"PG-13\", \"R\", \"NC-17\", \"Not Rated\"])\n",
    "plt.xlim(-0.75, len(x_axis)-0.25)\n",
    "plt.ylim(min(ratings_revenue)-9000000, max(ratings_revenue)+9000000)\n",
    "\n",
    "plt.title(\"Profit based on content rating\")\n",
    "plt.xlabel(\"content rating\")\n",
    "plt.ylabel(\"mean Profit (in millions)\")\n",
    "\n",
    "plt.legend(loc=\"best\")\n",
    "plt.grid()\n",
    "\n",
    "    \n",
    "plt.show()"
   ]
  },
  {
   "cell_type": "code",
   "execution_count": 19,
   "metadata": {},
   "outputs": [
    {
     "data": {
      "text/plain": [
       "array(['PG-13', 'PG', 'G', 'R', 'Approved', 'NC-17', 'X', 'Not Rated',\n",
       "       'Unrated', 'M', 'GP', 'Passed'], dtype=object)"
      ]
     },
     "execution_count": 19,
     "metadata": {},
     "output_type": "execute_result"
    }
   ],
   "source": [
    "revenue_rating[\"content_rating\"].unique()"
   ]
  },
  {
   "cell_type": "code",
   "execution_count": 20,
   "metadata": {
    "scrolled": false
   },
   "outputs": [
    {
     "name": "stderr",
     "output_type": "stream",
     "text": [
      "C:\\Users\\Mike\\new\\Anaconda3\\envs\\python1\\lib\\site-packages\\ipykernel_launcher.py:2: SettingWithCopyWarning: \n",
      "A value is trying to be set on a copy of a slice from a DataFrame.\n",
      "Try using .loc[row_indexer,col_indexer] = value instead\n",
      "\n",
      "See the caveats in the documentation: http://pandas.pydata.org/pandas-docs/stable/user_guide/indexing.html#returning-a-view-versus-a-copy\n",
      "  \n"
     ]
    }
   ],
   "source": [
    "revenue_duration = df_clean[[\"budget\", \"gross\", \"duration\"]]\n",
    "revenue_duration[\"revenue\"] = revenue_duration[\"gross\"] - revenue_duration[\"budget\"]\n",
    "\n",
    "over_150 = revenue_duration.loc[revenue_duration[\"duration\"] > 150]\n",
    "between_120_and_150 = revenue_duration.loc[(revenue_duration[\"duration\"] > 120) & (revenue_duration[\"duration\"] <= 150)]\n",
    "between_90_and_120 = revenue_duration.loc[(revenue_duration[\"duration\"] > 90) & (revenue_duration[\"duration\"] <= 120)]\n",
    "under_90 = revenue_duration.loc[revenue_duration[\"duration\"] <= 90]\n",
    "\n",
    " \n",
    "over_150_revenue = over_150[\"revenue\"].mean()\n",
    "between_120_and_150_revenue = between_120_and_150[\"revenue\"].mean()\n",
    "between_90_and_120_revenue = between_90_and_120[\"revenue\"].mean()\n",
    "under_90_revenue = under_90[\"revenue\"].mean()\n",
    "\n",
    "over_150_sem = over_150[\"revenue\"].sem()\n",
    "between_120_and_150_sem = between_120_and_150[\"revenue\"].sem()\n",
    "between_90_and_120_sem = between_90_and_120[\"revenue\"].sem()\n",
    "under_90_sem = under_90[\"revenue\"].sem()\n",
    "\n"
   ]
  },
  {
   "cell_type": "code",
   "execution_count": 21,
   "metadata": {},
   "outputs": [
    {
     "name": "stderr",
     "output_type": "stream",
     "text": [
      "No handles with labels found to put in legend.\n"
     ]
    },
    {
     "data": {
      "image/png": "[encoded data removed]",
      "text/plain": [
       "<Figure size 432x288 with 1 Axes>"
      ]
     },
     "metadata": {
      "needs_background": "light"
     },
     "output_type": "display_data"
    }
   ],
   "source": [
    "duration_revenue = [over_150_revenue, between_120_and_150_revenue, between_90_and_120_revenue, under_90_revenue]\n",
    "duration_sem = [over_150_sem, between_120_and_150_sem, between_90_and_120_sem, under_90_sem]\n",
    "\n",
    "x_axis = np.arange(len(duration_revenue))\n",
    "plt.bar(x_axis, duration_revenue,  yerr = duration_sem, color='r', alpha=0.5, align=\"center\", capsize=10)\n",
    "tick_locations = [value for value in x_axis]\n",
    "plt.xticks(tick_locations, [\"over 150\", \"120 to 150\", \"90 to 120\", \"under 90\"])\n",
    "plt.xlim(-0.75, len(x_axis)-0.25)\n",
    "plt.ylim(min(duration_revenue)-8000000, max(duration_revenue)+13000000)\n",
    "\n",
    "plt.title(\"profit based on Duration\")\n",
    "plt.xlabel(\"Duration (in minutes)\")\n",
    "plt.ylabel(\"mean profit (in millions)\")\n",
    "\n",
    "plt.legend(loc=\"best\")\n",
    "plt.grid()\n",
    "\n",
    "    \n",
    "plt.show()"
   ]
  },
  {
   "cell_type": "code",
   "execution_count": 22,
   "metadata": {},
   "outputs": [],
   "source": [
    "imdb_score_content_rating = df_clean[[\"imdb_score\", \"content_rating\"]]\n",
    "g = imdb_score_content_rating.loc[imdb_score_content_rating[\"content_rating\"] == \"G\"]\n",
    "pg = imdb_score_content_rating.loc[imdb_score_content_rating[\"content_rating\"] == \"PG\"]\n",
    "pg_13 = imdb_score_content_rating.loc[imdb_score_content_rating[\"content_rating\"] == \"PG-13\"]\n",
    "r = imdb_score_content_rating.loc[imdb_score_content_rating[\"content_rating\"] == \"R\"]\n",
    "nc_17 = imdb_score_content_rating.loc[imdb_score_content_rating[\"content_rating\"] == \"NC-17\"]\n",
    "notRated = imdb_score_content_rating.loc[(imdb_score_content_rating[\"content_rating\"] == \"Not Rated\") | (imdb_score_content_rating[\"content_rating\"] == \"Unrated\")]\n",
    "\n",
    " \n",
    "g_score = g[\"imdb_score\"].mean()\n",
    "pg_score = pg[\"imdb_score\"].mean()\n",
    "pg_13_score = pg_13[\"imdb_score\"].mean()\n",
    "r_score = r[\"imdb_score\"].mean()\n",
    "nc_17_score = nc_17[\"imdb_score\"].mean()\n",
    "notRated_score = notRated[\"imdb_score\"].mean()\n",
    "\n",
    "g_sem = g[\"imdb_score\"].sem()\n",
    "pg_sem = pg[\"imdb_score\"].sem()\n",
    "pg_13_sem = pg_13[\"imdb_score\"].sem()\n",
    "r_sem = r[\"imdb_score\"].sem()\n",
    "nc_17_sem = nc_17[\"imdb_score\"].sem() \n",
    "notRated_sem = notRated[\"imdb_score\"].sem()"
   ]
  },
  {
   "cell_type": "code",
   "execution_count": 23,
   "metadata": {},
   "outputs": [
    {
     "name": "stderr",
     "output_type": "stream",
     "text": [
      "No handles with labels found to put in legend.\n"
     ]
    },
    {
     "data": {
      "image/png": "[encoded data removed]",
      "text/plain": [
       "<Figure size 432x288 with 1 Axes>"
      ]
     },
     "metadata": {
      "needs_background": "light"
     },
     "output_type": "display_data"
    }
   ],
   "source": [
    "score_rating = [g_score, pg_score, pg_13_score, r_score, nc_17_score, notRated_score]\n",
    "score_rating_sem = [g_sem, pg_sem, pg_13_sem, r_sem, nc_17_sem, notRated_sem]\n",
    "\n",
    "x_axis = np.arange(len(score_rating))\n",
    "plt.bar(x_axis, score_rating, yerr = score_rating_sem, color='r', alpha=0.5, align=\"center\", capsize=10)\n",
    "tick_locations = [value for value in x_axis]\n",
    "plt.xticks(tick_locations, [\"G\", \"PG\", \"PG-13\", \"R\", \"nc-17\", \"Not Rated\"])\n",
    "plt.xlim(-0.75, len(x_axis)-0.25)\n",
    "plt.ylim(min(score_rating)-1, max(score_rating)+0.5)\n",
    "\n",
    "plt.title(\"IMDB Score based on content rating\")\n",
    "plt.xlabel(\"content rating\")\n",
    "plt.ylabel(\"mean IMDB Score\")\n",
    "\n",
    "plt.legend(loc=\"best\")\n",
    "plt.grid()\n",
    "\n",
    "    \n",
    "plt.show()"
   ]
  },
  {
   "cell_type": "code",
   "execution_count": 24,
   "metadata": {},
   "outputs": [
    {
     "name": "stderr",
     "output_type": "stream",
     "text": [
      "C:\\Users\\Mike\\new\\Anaconda3\\envs\\python1\\lib\\site-packages\\ipykernel_launcher.py:2: SettingWithCopyWarning: \n",
      "A value is trying to be set on a copy of a slice from a DataFrame.\n",
      "Try using .loc[row_indexer,col_indexer] = value instead\n",
      "\n",
      "See the caveats in the documentation: http://pandas.pydata.org/pandas-docs/stable/user_guide/indexing.html#returning-a-view-versus-a-copy\n",
      "  \n"
     ]
    },
    {
     "data": {
      "text/html": [
       "<div>\n",
       "<style scoped>\n",
       "    .dataframe tbody tr th:only-of-type {\n",
       "        vertical-align: middle;\n",
       "    }\n",
       "\n",
       "    .dataframe tbody tr th {\n",
       "        vertical-align: top;\n",
       "    }\n",
       "\n",
       "    .dataframe thead th {\n",
       "        text-align: right;\n",
       "    }\n",
       "</style>\n",
       "<table border=\"1\" class=\"dataframe\">\n",
       "  <thead>\n",
       "    <tr style=\"text-align: right;\">\n",
       "      <th></th>\n",
       "      <th>budget</th>\n",
       "      <th>gross</th>\n",
       "      <th>profit</th>\n",
       "    </tr>\n",
       "  </thead>\n",
       "  <tbody>\n",
       "    <tr>\n",
       "      <th>0</th>\n",
       "      <td>237000000.0</td>\n",
       "      <td>760505847.0</td>\n",
       "      <td>523505847.0</td>\n",
       "    </tr>\n",
       "    <tr>\n",
       "      <th>1</th>\n",
       "      <td>300000000.0</td>\n",
       "      <td>309404152.0</td>\n",
       "      <td>9404152.0</td>\n",
       "    </tr>\n",
       "    <tr>\n",
       "      <th>2</th>\n",
       "      <td>245000000.0</td>\n",
       "      <td>200074175.0</td>\n",
       "      <td>-44925825.0</td>\n",
       "    </tr>\n",
       "    <tr>\n",
       "      <th>3</th>\n",
       "      <td>250000000.0</td>\n",
       "      <td>448130642.0</td>\n",
       "      <td>198130642.0</td>\n",
       "    </tr>\n",
       "    <tr>\n",
       "      <th>5</th>\n",
       "      <td>263700000.0</td>\n",
       "      <td>73058679.0</td>\n",
       "      <td>-190641321.0</td>\n",
       "    </tr>\n",
       "    <tr>\n",
       "      <th>...</th>\n",
       "      <td>...</td>\n",
       "      <td>...</td>\n",
       "      <td>...</td>\n",
       "    </tr>\n",
       "    <tr>\n",
       "      <th>5026</th>\n",
       "      <td>4500.0</td>\n",
       "      <td>136007.0</td>\n",
       "      <td>131507.0</td>\n",
       "    </tr>\n",
       "    <tr>\n",
       "      <th>5027</th>\n",
       "      <td>10000.0</td>\n",
       "      <td>673780.0</td>\n",
       "      <td>663780.0</td>\n",
       "    </tr>\n",
       "    <tr>\n",
       "      <th>5033</th>\n",
       "      <td>7000.0</td>\n",
       "      <td>424760.0</td>\n",
       "      <td>417760.0</td>\n",
       "    </tr>\n",
       "    <tr>\n",
       "      <th>5035</th>\n",
       "      <td>7000.0</td>\n",
       "      <td>2040920.0</td>\n",
       "      <td>2033920.0</td>\n",
       "    </tr>\n",
       "    <tr>\n",
       "      <th>5042</th>\n",
       "      <td>1100.0</td>\n",
       "      <td>85222.0</td>\n",
       "      <td>84122.0</td>\n",
       "    </tr>\n",
       "  </tbody>\n",
       "</table>\n",
       "<p>3756 rows × 3 columns</p>\n",
       "</div>"
      ],
      "text/plain": [
       "           budget        gross       profit\n",
       "0     237000000.0  760505847.0  523505847.0\n",
       "1     300000000.0  309404152.0    9404152.0\n",
       "2     245000000.0  200074175.0  -44925825.0\n",
       "3     250000000.0  448130642.0  198130642.0\n",
       "5     263700000.0   73058679.0 -190641321.0\n",
       "...           ...          ...          ...\n",
       "5026       4500.0     136007.0     131507.0\n",
       "5027      10000.0     673780.0     663780.0\n",
       "5033       7000.0     424760.0     417760.0\n",
       "5035       7000.0    2040920.0    2033920.0\n",
       "5042       1100.0      85222.0      84122.0\n",
       "\n",
       "[3756 rows x 3 columns]"
      ]
     },
     "execution_count": 24,
     "metadata": {},
     "output_type": "execute_result"
    }
   ],
   "source": [
    "profit_budget = df_clean[[\"budget\", \"gross\"]]\n",
    "profit_budget[\"profit\"] = profit_budget[\"gross\"] - profit_budget[\"budget\"]\n",
    "\n",
    "\n",
    " \n",
    "over_150_revenue = over_150[\"revenue\"].mean()\n",
    "between_120_and_150_revenue = between_120_and_150[\"revenue\"].mean()\n",
    "between_90_and_120_revenue = between_90_and_120[\"revenue\"].mean()\n",
    "under_90_revenue = under_90[\"revenue\"].mean()\n",
    "\n",
    "over_150_sem = over_150[\"revenue\"].sem()\n",
    "between_120_and_150_sem = between_120_and_150[\"revenue\"].sem()\n",
    "between_90_and_120_sem = between_90_and_120[\"revenue\"].sem()\n",
    "under_90_sem = under_90[\"revenue\"].sem()\n",
    "\n",
    "\n",
    "profit_budget"
   ]
  },
  {
   "cell_type": "code",
   "execution_count": 25,
   "metadata": {},
   "outputs": [
    {
     "data": {
      "text/html": [
       "<div>\n",
       "<style scoped>\n",
       "    .dataframe tbody tr th:only-of-type {\n",
       "        vertical-align: middle;\n",
       "    }\n",
       "\n",
       "    .dataframe tbody tr th {\n",
       "        vertical-align: top;\n",
       "    }\n",
       "\n",
       "    .dataframe thead th {\n",
       "        text-align: right;\n",
       "    }\n",
       "</style>\n",
       "<table border=\"1\" class=\"dataframe\">\n",
       "  <thead>\n",
       "    <tr style=\"text-align: right;\">\n",
       "      <th></th>\n",
       "      <th>movie_facebook_likes</th>\n",
       "      <th>budget</th>\n",
       "    </tr>\n",
       "  </thead>\n",
       "  <tbody>\n",
       "    <tr>\n",
       "      <th>0</th>\n",
       "      <td>33000</td>\n",
       "      <td>237000000.0</td>\n",
       "    </tr>\n",
       "    <tr>\n",
       "      <th>1</th>\n",
       "      <td>0</td>\n",
       "      <td>300000000.0</td>\n",
       "    </tr>\n",
       "    <tr>\n",
       "      <th>2</th>\n",
       "      <td>85000</td>\n",
       "      <td>245000000.0</td>\n",
       "    </tr>\n",
       "    <tr>\n",
       "      <th>3</th>\n",
       "      <td>164000</td>\n",
       "      <td>250000000.0</td>\n",
       "    </tr>\n",
       "    <tr>\n",
       "      <th>5</th>\n",
       "      <td>24000</td>\n",
       "      <td>263700000.0</td>\n",
       "    </tr>\n",
       "    <tr>\n",
       "      <th>...</th>\n",
       "      <td>...</td>\n",
       "      <td>...</td>\n",
       "    </tr>\n",
       "    <tr>\n",
       "      <th>5026</th>\n",
       "      <td>171</td>\n",
       "      <td>4500.0</td>\n",
       "    </tr>\n",
       "    <tr>\n",
       "      <th>5027</th>\n",
       "      <td>697</td>\n",
       "      <td>10000.0</td>\n",
       "    </tr>\n",
       "    <tr>\n",
       "      <th>5033</th>\n",
       "      <td>19000</td>\n",
       "      <td>7000.0</td>\n",
       "    </tr>\n",
       "    <tr>\n",
       "      <th>5035</th>\n",
       "      <td>0</td>\n",
       "      <td>7000.0</td>\n",
       "    </tr>\n",
       "    <tr>\n",
       "      <th>5042</th>\n",
       "      <td>456</td>\n",
       "      <td>1100.0</td>\n",
       "    </tr>\n",
       "  </tbody>\n",
       "</table>\n",
       "<p>3756 rows × 2 columns</p>\n",
       "</div>"
      ],
      "text/plain": [
       "      movie_facebook_likes       budget\n",
       "0                    33000  237000000.0\n",
       "1                        0  300000000.0\n",
       "2                    85000  245000000.0\n",
       "3                   164000  250000000.0\n",
       "5                    24000  263700000.0\n",
       "...                    ...          ...\n",
       "5026                   171       4500.0\n",
       "5027                   697      10000.0\n",
       "5033                 19000       7000.0\n",
       "5035                     0       7000.0\n",
       "5042                   456       1100.0\n",
       "\n",
       "[3756 rows x 2 columns]"
      ]
     },
     "execution_count": 25,
     "metadata": {},
     "output_type": "execute_result"
    }
   ],
   "source": [
    "pop = df_clean[[\"movie_facebook_likes\", \"budget\"]]\n",
    "pop"
   ]
  },
  {
   "cell_type": "code",
   "execution_count": 26,
   "metadata": {},
   "outputs": [],
   "source": [
    "budget_facebook = df_clean[[\"budget\", \"movie_facebook_likes\"]]\n",
    "\n",
    "budget_facebook_two_hundred_million_plus =  budget_facebook.loc[(budget_facebook[\"budget\"] > 200000000)]\n",
    "budget_facebook_one_to_two_hundred_million =  budget_facebook.loc[(budget_facebook[\"budget\"] >= 100000000) & (budget_facebook[\"budget\"] <= 200000000)]\n",
    "budget_facebook_fifty_to_one_hundred_million =  budget_facebook.loc[(budget_facebook[\"budget\"] >= 50000000) & (budget_facebook[\"budget\"] < 100000000)]\n",
    "budget_facebook_under_fifty_million =  budget_facebook.loc[(budget_facebook[\"budget\"] < 50000000)]\n",
    "\n",
    "budget_facebook_two_hundred_million_plus_mean = budget_facebook_two_hundred_million_plus[\"movie_facebook_likes\"].mean()\n",
    "budget_facebook_one_to_two_hundred_million_mean = budget_facebook_one_to_two_hundred_million[\"movie_facebook_likes\"].mean()\n",
    "budget_facebook_fifty_to_one_hundred_million_mean = budget_facebook_fifty_to_one_hundred_million[\"movie_facebook_likes\"].mean()\n",
    "budget_facebook_under_fifty_million_mean = budget_facebook_under_fifty_million[\"movie_facebook_likes\"].mean()\n",
    "\n",
    "budget_facebook_two_hundred_million_plus_sem = budget_facebook_two_hundred_million_plus[\"movie_facebook_likes\"].sem()\n",
    "budget_facebook_one_to_two_hundred_million_sem = budget_facebook_one_to_two_hundred_million[\"movie_facebook_likes\"].sem()\n",
    "budget_facebook_fifty_to_one_hundred_million_sem = budget_facebook_fifty_to_one_hundred_million[\"movie_facebook_likes\"].sem()\n",
    "budget_facebook_under_fifty_million_sem = budget_facebook_under_fifty_million[\"movie_facebook_likes\"].sem()\n"
   ]
  },
  {
   "cell_type": "code",
   "execution_count": 31,
   "metadata": {},
   "outputs": [
    {
     "name": "stderr",
     "output_type": "stream",
     "text": [
      "No handles with labels found to put in legend.\n"
     ]
    },
    {
     "data": {
      "image/png": "[encoded data removed]",
      "text/plain": [
       "<Figure size 432x288 with 1 Axes>"
      ]
     },
     "metadata": {
      "needs_background": "light"
     },
     "output_type": "display_data"
    }
   ],
   "source": [
    "\n",
    "fb_likes = [budget_facebook_two_hundred_million_plus_mean, budget_facebook_one_to_two_hundred_million_mean, budget_facebook_fifty_to_one_hundred_million_mean, budget_facebook_under_fifty_million_mean]\n",
    "fb_likes_sem = [budget_facebook_two_hundred_million_plus_sem, budget_facebook_one_to_two_hundred_million_sem, budget_facebook_fifty_to_one_hundred_million_sem, budget_facebook_under_fifty_million_sem]\n",
    "\n",
    "x_axis = np.arange(len(fb_likes))\n",
    "plt.bar(x_axis, fb_likes, yerr = fb_likes_sem, color='r', alpha=0.5, align=\"center\", capsize=10)\n",
    "tick_locations = [value for value in x_axis]\n",
    "plt.xticks(tick_locations, [\"200 +\", \"100 to 200\", \"50 to 100\", \"under 50\"])\n",
    "plt.xlim(-0.75, len(x_axis)-0.25)\n",
    "plt.ylim(min(fb_likes)-5000, max(fb_likes)+10000)\n",
    "\n",
    "plt.title(\"budget effect on facebook likes\")\n",
    "plt.xlabel(\"budget (in millions)\")\n",
    "plt.ylabel(\"fb likes\")\n",
    "\n",
    "plt.legend(loc=\"best\")\n",
    "plt.grid()\n",
    "\n",
    "    \n",
    "plt.show()"
   ]
  },
  {
   "cell_type": "code",
   "execution_count": 36,
   "metadata": {},
   "outputs": [
    {
     "data": {
      "text/plain": [
       "0     237000000.0\n",
       "1     300000000.0\n",
       "2     245000000.0\n",
       "3     250000000.0\n",
       "5     263700000.0\n",
       "6     258000000.0\n",
       "7     260000000.0\n",
       "8     250000000.0\n",
       "9     250000000.0\n",
       "10    250000000.0\n",
       "11    209000000.0\n",
       "12    200000000.0\n",
       "13    225000000.0\n",
       "14    215000000.0\n",
       "15    225000000.0\n",
       "16    225000000.0\n",
       "17    220000000.0\n",
       "18    250000000.0\n",
       "19    225000000.0\n",
       "20    250000000.0\n",
       "21    230000000.0\n",
       "22    200000000.0\n",
       "23    225000000.0\n",
       "24    180000000.0\n",
       "25    207000000.0\n",
       "26    200000000.0\n",
       "27    250000000.0\n",
       "28    209000000.0\n",
       "29    150000000.0\n",
       "30    200000000.0\n",
       "31    200000000.0\n",
       "32    200000000.0\n",
       "33    200000000.0\n",
       "34    210000000.0\n",
       "35    200000000.0\n",
       "36    200000000.0\n",
       "37    210000000.0\n",
       "38    215000000.0\n",
       "39    200000000.0\n",
       "40    170000000.0\n",
       "41    200000000.0\n",
       "42    200000000.0\n",
       "43    200000000.0\n",
       "44    200000000.0\n",
       "45    190000000.0\n",
       "46    190000000.0\n",
       "47    200000000.0\n",
       "48    190000000.0\n",
       "49    195000000.0\n",
       "50    105000000.0\n",
       "Name: budget, dtype: float64"
      ]
     },
     "execution_count": 36,
     "metadata": {},
     "output_type": "execute_result"
    }
   ],
   "source": [
    "budget_profit = df_clean[[\"budget\", \"gross\"]]\n",
    "budget_profit[\"budget\"].head(50)"
   ]
  },
  {
   "cell_type": "code",
   "execution_count": 45,
   "metadata": {},
   "outputs": [
    {
     "name": "stderr",
     "output_type": "stream",
     "text": [
      "C:\\Users\\Mike\\new\\Anaconda3\\envs\\python1\\lib\\site-packages\\ipykernel_launcher.py:2: SettingWithCopyWarning: \n",
      "A value is trying to be set on a copy of a slice from a DataFrame.\n",
      "Try using .loc[row_indexer,col_indexer] = value instead\n",
      "\n",
      "See the caveats in the documentation: http://pandas.pydata.org/pandas-docs/stable/user_guide/indexing.html#returning-a-view-versus-a-copy\n",
      "  \n"
     ]
    },
    {
     "data": {
      "text/plain": [
       "0       5.235058e+08\n",
       "1       9.404152e+06\n",
       "2      -4.492582e+07\n",
       "3       1.981306e+08\n",
       "5      -1.906413e+08\n",
       "6       7.853030e+07\n",
       "7      -5.919274e+07\n",
       "8       2.089916e+08\n",
       "9       5.195698e+07\n",
       "10      8.024906e+07\n",
       "11     -8.930592e+06\n",
       "13      1.980326e+08\n",
       "14     -1.257101e+08\n",
       "15      6.602156e+07\n",
       "16     -8.338598e+07\n",
       "17      4.032795e+08\n",
       "18     -8.936125e+06\n",
       "19     -4.597915e+07\n",
       "20      5.108370e+06\n",
       "21      3.203066e+07\n",
       "23      3.335535e+07\n",
       "25      1.105126e+07\n",
       "27      1.571973e+08\n",
       "28     -1.438268e+08\n",
       "34      2.436001e+07\n",
       "37      3.542814e+07\n",
       "38      1.990308e+07\n",
       "794     4.032795e+08\n",
       "1016   -3.758687e+08\n",
       "1338   -5.530052e+08\n",
       "2049    1.105126e+07\n",
       "2323   -2.397702e+09\n",
       "2334   -2.127110e+09\n",
       "2740   -2.998979e+08\n",
       "2988   -1.221330e+10\n",
       "3005   -2.499804e+09\n",
       "3075   -6.967246e+08\n",
       "3311   -3.995457e+08\n",
       "3423   -1.099561e+09\n",
       "3461    7.853030e+07\n",
       "3851   -6.983127e+08\n",
       "3859   -4.199788e+09\n",
       "4542   -9.899626e+08\n",
       "4694    1.105126e+07\n",
       "4778    1.990308e+07\n",
       "Name: profit, dtype: float64"
      ]
     },
     "execution_count": 45,
     "metadata": {},
     "output_type": "execute_result"
    }
   ],
   "source": [
    "budget_profit = df_clean[[\"budget\", \"gross\"]]\n",
    "budget_profit[\"profit\"] = budget_profit[\"gross\"] - budget_profit[\"budget\"]\n",
    "\n",
    "budget_profit_over_200 = budget_profit.loc[budget_profit[\"budget\"] > 200000000]\n",
    "budget_profit_between_100_and_200 = budget_profit.loc[(budget_profit[\"budget\"] > 100000000) & (budget_profit[\"budget\"] <= 200000000)]\n",
    "budget_profit_between_under_100 = budget_profit.loc[(budget_profit[\"budget\"] < 100000000)]\n",
    "\n",
    "\n",
    " \n",
    "budget_profit_over_200_mean = budget_profit_over_200[\"profit\"].mean()\n",
    "budget_profit_between_100_and_200_mean = budget_profit_between_100_and_200[\"profit\"].mean()\n",
    "budget_profit_between_under_100_mean = budget_profit_between_under_100[\"profit\"].mean()\n",
    "\n",
    "\n",
    "budget_profit_over_200_sem = budget_profit_over_200[\"profit\"].sem()\n",
    "budget_profit_between_100_and_200_sem = budget_profit_between_100_and_200[\"profit\"].sem()\n",
    "budget_profit_between_under_100_sem = budget_profit_between_under_100[\"profit\"].sem()\n",
    "\n",
    "budget_profit_over_200[\"profit\"].head(50)"
   ]
  },
  {
   "cell_type": "code",
   "execution_count": 46,
   "metadata": {
    "scrolled": true
   },
   "outputs": [
    {
     "name": "stderr",
     "output_type": "stream",
     "text": [
      "No handles with labels found to put in legend.\n"
     ]
    },
    {
     "data": {
      "image/png": "[encoded data removed]",
      "text/plain": [
       "<Figure size 432x288 with 1 Axes>"
      ]
     },
     "metadata": {
      "needs_background": "light"
     },
     "output_type": "display_data"
    }
   ],
   "source": [
    "\n",
    "profit = [budget_profit_over_200_mean, budget_profit_between_100_and_200_mean, budget_profit_between_under_100_mean]\n",
    "profit_sem = [budget_profit_over_200_sem, budget_profit_between_100_and_200_sem, budget_profit_between_under_100_sem]\n",
    "\n",
    "x_axis = np.arange(len(profit))\n",
    "plt.bar(x_axis, profit, yerr = profit_sem, color='r', alpha=0.5, align=\"center\", capsize=10)\n",
    "tick_locations = [value for value in x_axis]\n",
    "plt.xticks(tick_locations, [\"200 +\", \"100 to 200\", \"under 100\"])\n",
    "plt.xlim(-0.75, len(x_axis)-0.25)\n",
    "plt.ylim(min(profit)-400000000, max(profit)+20000000)\n",
    "\n",
    "plt.title(\"budget effect on profit\")\n",
    "plt.xlabel(\"budget (in millions)\")\n",
    "plt.ylabel(\"profit (in hundreds of millions)\")\n",
    "\n",
    "plt.legend(loc=\"best\")\n",
    "plt.grid()\n",
    "\n",
    "\n",
    "plt.show()"
   ]
  },
  {
   "cell_type": "code",
   "execution_count": 5,
   "metadata": {},
   "outputs": [],
   "source": [
    "# select columns of interest to create new dataframe\n",
    "imdb=df_clean[[\"movie_title\",\"imdb_score\",\"duration\",\"content_rating\",\"budget\",\"aspect_ratio\",\"title_year\",\"country\",\"language\",\"gross\"]].sort_values(by=[\"imdb_score\"],ascending=False)"
   ]
  },
  {
   "cell_type": "code",
   "execution_count": 6,
   "metadata": {},
   "outputs": [],
   "source": [
    "imdb[\"profit\"]=imdb[\"gross\"]-imdb[\"budget\"]"
   ]
  },
  {
   "cell_type": "code",
   "execution_count": 7,
   "metadata": {
    "scrolled": true
   },
   "outputs": [
    {
     "data": {
      "text/html": [
       "<div>\n",
       "<style scoped>\n",
       "    .dataframe tbody tr th:only-of-type {\n",
       "        vertical-align: middle;\n",
       "    }\n",
       "\n",
       "    .dataframe tbody tr th {\n",
       "        vertical-align: top;\n",
       "    }\n",
       "\n",
       "    .dataframe thead th {\n",
       "        text-align: right;\n",
       "    }\n",
       "</style>\n",
       "<table border=\"1\" class=\"dataframe\">\n",
       "  <thead>\n",
       "    <tr style=\"text-align: right;\">\n",
       "      <th></th>\n",
       "      <th>movie_title</th>\n",
       "      <th>imdb_score</th>\n",
       "      <th>duration</th>\n",
       "      <th>content_rating</th>\n",
       "      <th>budget</th>\n",
       "      <th>aspect_ratio</th>\n",
       "      <th>title_year</th>\n",
       "      <th>country</th>\n",
       "      <th>language</th>\n",
       "      <th>gross</th>\n",
       "      <th>profit</th>\n",
       "    </tr>\n",
       "  </thead>\n",
       "  <tbody>\n",
       "    <tr>\n",
       "      <th>1937</th>\n",
       "      <td>The Shawshank Redemption</td>\n",
       "      <td>9.3</td>\n",
       "      <td>142.0</td>\n",
       "      <td>R</td>\n",
       "      <td>25000000.0</td>\n",
       "      <td>1.85</td>\n",
       "      <td>1994.0</td>\n",
       "      <td>USA</td>\n",
       "      <td>English</td>\n",
       "      <td>28341469.0</td>\n",
       "      <td>3341469.0</td>\n",
       "    </tr>\n",
       "    <tr>\n",
       "      <th>3466</th>\n",
       "      <td>The Godfather</td>\n",
       "      <td>9.2</td>\n",
       "      <td>175.0</td>\n",
       "      <td>R</td>\n",
       "      <td>6000000.0</td>\n",
       "      <td>1.85</td>\n",
       "      <td>1972.0</td>\n",
       "      <td>USA</td>\n",
       "      <td>English</td>\n",
       "      <td>134821952.0</td>\n",
       "      <td>128821952.0</td>\n",
       "    </tr>\n",
       "    <tr>\n",
       "      <th>66</th>\n",
       "      <td>The Dark Knight</td>\n",
       "      <td>9.0</td>\n",
       "      <td>152.0</td>\n",
       "      <td>PG-13</td>\n",
       "      <td>185000000.0</td>\n",
       "      <td>2.35</td>\n",
       "      <td>2008.0</td>\n",
       "      <td>USA</td>\n",
       "      <td>English</td>\n",
       "      <td>533316061.0</td>\n",
       "      <td>348316061.0</td>\n",
       "    </tr>\n",
       "    <tr>\n",
       "      <th>2837</th>\n",
       "      <td>The Godfather: Part II</td>\n",
       "      <td>9.0</td>\n",
       "      <td>220.0</td>\n",
       "      <td>R</td>\n",
       "      <td>13000000.0</td>\n",
       "      <td>1.85</td>\n",
       "      <td>1974.0</td>\n",
       "      <td>USA</td>\n",
       "      <td>English</td>\n",
       "      <td>57300000.0</td>\n",
       "      <td>44300000.0</td>\n",
       "    </tr>\n",
       "    <tr>\n",
       "      <th>339</th>\n",
       "      <td>The Lord of the Rings: The Return of the King</td>\n",
       "      <td>8.9</td>\n",
       "      <td>192.0</td>\n",
       "      <td>PG-13</td>\n",
       "      <td>94000000.0</td>\n",
       "      <td>2.35</td>\n",
       "      <td>2003.0</td>\n",
       "      <td>USA</td>\n",
       "      <td>English</td>\n",
       "      <td>377019252.0</td>\n",
       "      <td>283019252.0</td>\n",
       "    </tr>\n",
       "  </tbody>\n",
       "</table>\n",
       "</div>"
      ],
      "text/plain": [
       "                                         movie_title  imdb_score  duration  \\\n",
       "1937                       The Shawshank Redemption          9.3     142.0   \n",
       "3466                                  The Godfather          9.2     175.0   \n",
       "66                                  The Dark Knight          9.0     152.0   \n",
       "2837                         The Godfather: Part II          9.0     220.0   \n",
       "339   The Lord of the Rings: The Return of the King          8.9     192.0   \n",
       "\n",
       "     content_rating       budget  aspect_ratio  title_year country language  \\\n",
       "1937              R   25000000.0          1.85      1994.0     USA  English   \n",
       "3466              R    6000000.0          1.85      1972.0     USA  English   \n",
       "66            PG-13  185000000.0          2.35      2008.0     USA  English   \n",
       "2837              R   13000000.0          1.85      1974.0     USA  English   \n",
       "339           PG-13   94000000.0          2.35      2003.0     USA  English   \n",
       "\n",
       "            gross       profit  \n",
       "1937   28341469.0    3341469.0  \n",
       "3466  134821952.0  128821952.0  \n",
       "66    533316061.0  348316061.0  \n",
       "2837   57300000.0   44300000.0  \n",
       "339   377019252.0  283019252.0  "
      ]
     },
     "execution_count": 7,
     "metadata": {},
     "output_type": "execute_result"
    }
   ],
   "source": [
    "# preview the dataset\n",
    "imdb.head()"
   ]
  },
  {
   "cell_type": "code",
   "execution_count": 8,
   "metadata": {},
   "outputs": [],
   "source": [
    "# clean up content rating. replace \"Unrated\" with \"Not Rated\"\n",
    "imdb[\"content_rating\"]=imdb[\"content_rating\"].replace({\"Unrated\":\"Not Rated\",\"G\":\"PG\"})"
   ]
  },
  {
   "cell_type": "code",
   "execution_count": 9,
   "metadata": {
    "scrolled": true
   },
   "outputs": [],
   "source": [
    "#keep cleaning the dataset by deleting ambiguous content rating\n",
    "imdb_rt=imdb.loc[imdb[\"content_rating\"] != \"Approved\"]\n",
    "imdb_rt=imdb_rt.loc[imdb_rt[\"content_rating\"] != \"X\"]\n",
    "imdb_rt=imdb_rt.loc[imdb_rt[\"content_rating\"] != \"Passed\"]\n",
    "imdb_rt=imdb_rt.loc[imdb_rt[\"content_rating\"] != \"M\"] \n",
    "imdb_rt=imdb_rt.loc[imdb_rt[\"content_rating\"] != \"GP\"]\n",
    "# categorize the movie duration based on the 50% quartile\n",
    "imdb_rt.loc[imdb_rt.duration <= 106, 'length'] = '<=106' \n",
    "imdb_rt.loc[imdb_rt.duration > 106, 'length'] = '>106' "
   ]
  },
  {
   "cell_type": "code",
   "execution_count": 10,
   "metadata": {},
   "outputs": [
    {
     "data": {
      "text/plain": [
       "movie_title       3723\n",
       "imdb_score        3723\n",
       "duration          3723\n",
       "content_rating    3723\n",
       "budget            3723\n",
       "aspect_ratio      3723\n",
       "title_year        3723\n",
       "country           3723\n",
       "language          3723\n",
       "gross             3723\n",
       "profit            3723\n",
       "length            3723\n",
       "dtype: int64"
      ]
     },
     "execution_count": 10,
     "metadata": {},
     "output_type": "execute_result"
    }
   ],
   "source": [
    "imdb_rt.count()"
   ]
  },
  {
   "cell_type": "code",
   "execution_count": 11,
   "metadata": {
    "scrolled": false
   },
   "outputs": [
    {
     "data": {
      "text/plain": [
       "R            1700\n",
       "PG-13        1308\n",
       "PG            653\n",
       "Not Rated      56\n",
       "NC-17           6\n",
       "Name: content_rating, dtype: int64"
      ]
     },
     "execution_count": 11,
     "metadata": {},
     "output_type": "execute_result"
    }
   ],
   "source": [
    "#count movie numbers for each content rating\n",
    "imdb_rt[\"content_rating\"].value_counts()"
   ]
  },
  {
   "cell_type": "code",
   "execution_count": 12,
   "metadata": {
    "scrolled": true
   },
   "outputs": [
    {
     "data": {
      "text/plain": [
       "2002.0    190\n",
       "2006.0    189\n",
       "2008.0    182\n",
       "2005.0    182\n",
       "2009.0    182\n",
       "         ... \n",
       "1962.0      1\n",
       "1933.0      1\n",
       "1959.0      1\n",
       "1952.0      1\n",
       "1939.0      1\n",
       "Name: title_year, Length: 65, dtype: int64"
      ]
     },
     "execution_count": 12,
     "metadata": {},
     "output_type": "execute_result"
    }
   ],
   "source": [
    "#count movie numbers for each year\n",
    "imdb_rt[\"title_year\"].value_counts()"
   ]
  },
  {
   "cell_type": "code",
   "execution_count": 13,
   "metadata": {
    "scrolled": false
   },
   "outputs": [
    {
     "data": {
      "text/html": [
       "<div>\n",
       "<style scoped>\n",
       "    .dataframe tbody tr th:only-of-type {\n",
       "        vertical-align: middle;\n",
       "    }\n",
       "\n",
       "    .dataframe tbody tr th {\n",
       "        vertical-align: top;\n",
       "    }\n",
       "\n",
       "    .dataframe thead th {\n",
       "        text-align: right;\n",
       "    }\n",
       "</style>\n",
       "<table border=\"1\" class=\"dataframe\">\n",
       "  <thead>\n",
       "    <tr style=\"text-align: right;\">\n",
       "      <th></th>\n",
       "      <th>imdb_score</th>\n",
       "      <th>duration</th>\n",
       "      <th>budget</th>\n",
       "      <th>aspect_ratio</th>\n",
       "      <th>title_year</th>\n",
       "      <th>gross</th>\n",
       "      <th>profit</th>\n",
       "    </tr>\n",
       "  </thead>\n",
       "  <tbody>\n",
       "    <tr>\n",
       "      <th>count</th>\n",
       "      <td>3723.000000</td>\n",
       "      <td>3723.000000</td>\n",
       "      <td>3.723000e+03</td>\n",
       "      <td>3723.000000</td>\n",
       "      <td>3723.000000</td>\n",
       "      <td>3.723000e+03</td>\n",
       "      <td>3.723000e+03</td>\n",
       "    </tr>\n",
       "    <tr>\n",
       "      <th>mean</th>\n",
       "      <td>6.459361</td>\n",
       "      <td>110.229922</td>\n",
       "      <td>4.660233e+07</td>\n",
       "      <td>2.113049</td>\n",
       "      <td>2003.312651</td>\n",
       "      <td>5.276966e+07</td>\n",
       "      <td>6.167329e+06</td>\n",
       "    </tr>\n",
       "    <tr>\n",
       "      <th>std</th>\n",
       "      <td>1.056250</td>\n",
       "      <td>22.464870</td>\n",
       "      <td>2.269758e+08</td>\n",
       "      <td>0.351634</td>\n",
       "      <td>9.132967</td>\n",
       "      <td>7.051319e+07</td>\n",
       "      <td>2.308977e+08</td>\n",
       "    </tr>\n",
       "    <tr>\n",
       "      <th>min</th>\n",
       "      <td>1.600000</td>\n",
       "      <td>45.000000</td>\n",
       "      <td>2.180000e+02</td>\n",
       "      <td>1.180000</td>\n",
       "      <td>1927.000000</td>\n",
       "      <td>1.620000e+02</td>\n",
       "      <td>-1.221330e+10</td>\n",
       "    </tr>\n",
       "    <tr>\n",
       "      <th>25%</th>\n",
       "      <td>5.900000</td>\n",
       "      <td>96.000000</td>\n",
       "      <td>1.000000e+07</td>\n",
       "      <td>1.850000</td>\n",
       "      <td>1999.000000</td>\n",
       "      <td>8.340925e+06</td>\n",
       "      <td>-1.066926e+07</td>\n",
       "    </tr>\n",
       "    <tr>\n",
       "      <th>50%</th>\n",
       "      <td>6.600000</td>\n",
       "      <td>106.000000</td>\n",
       "      <td>2.500000e+07</td>\n",
       "      <td>2.350000</td>\n",
       "      <td>2005.000000</td>\n",
       "      <td>3.012796e+07</td>\n",
       "      <td>1.335839e+06</td>\n",
       "    </tr>\n",
       "    <tr>\n",
       "      <th>75%</th>\n",
       "      <td>7.200000</td>\n",
       "      <td>120.000000</td>\n",
       "      <td>5.000000e+07</td>\n",
       "      <td>2.350000</td>\n",
       "      <td>2010.000000</td>\n",
       "      <td>6.709472e+07</td>\n",
       "      <td>2.570386e+07</td>\n",
       "    </tr>\n",
       "    <tr>\n",
       "      <th>max</th>\n",
       "      <td>9.300000</td>\n",
       "      <td>330.000000</td>\n",
       "      <td>1.221550e+10</td>\n",
       "      <td>16.000000</td>\n",
       "      <td>2016.000000</td>\n",
       "      <td>7.605058e+08</td>\n",
       "      <td>5.235058e+08</td>\n",
       "    </tr>\n",
       "  </tbody>\n",
       "</table>\n",
       "</div>"
      ],
      "text/plain": [
       "        imdb_score     duration        budget  aspect_ratio   title_year  \\\n",
       "count  3723.000000  3723.000000  3.723000e+03   3723.000000  3723.000000   \n",
       "mean      6.459361   110.229922  4.660233e+07      2.113049  2003.312651   \n",
       "std       1.056250    22.464870  2.269758e+08      0.351634     9.132967   \n",
       "min       1.600000    45.000000  2.180000e+02      1.180000  1927.000000   \n",
       "25%       5.900000    96.000000  1.000000e+07      1.850000  1999.000000   \n",
       "50%       6.600000   106.000000  2.500000e+07      2.350000  2005.000000   \n",
       "75%       7.200000   120.000000  5.000000e+07      2.350000  2010.000000   \n",
       "max       9.300000   330.000000  1.221550e+10     16.000000  2016.000000   \n",
       "\n",
       "              gross        profit  \n",
       "count  3.723000e+03  3.723000e+03  \n",
       "mean   5.276966e+07  6.167329e+06  \n",
       "std    7.051319e+07  2.308977e+08  \n",
       "min    1.620000e+02 -1.221330e+10  \n",
       "25%    8.340925e+06 -1.066926e+07  \n",
       "50%    3.012796e+07  1.335839e+06  \n",
       "75%    6.709472e+07  2.570386e+07  \n",
       "max    7.605058e+08  5.235058e+08  "
      ]
     },
     "execution_count": 13,
     "metadata": {},
     "output_type": "execute_result"
    }
   ],
   "source": [
    "imdb_rt.describe()"
   ]
  },
  {
   "cell_type": "markdown",
   "metadata": {},
   "source": [
    "## Exploratory analysis"
   ]
  },
  {
   "cell_type": "code",
   "execution_count": 14,
   "metadata": {
    "scrolled": false
   },
   "outputs": [
    {
     "data": {
      "text/plain": [
       "count    3723.000000\n",
       "mean      110.229922\n",
       "std        22.464870\n",
       "min        45.000000\n",
       "25%        96.000000\n",
       "50%       106.000000\n",
       "75%       120.000000\n",
       "max       330.000000\n",
       "Name: duration, dtype: float64"
      ]
     },
     "execution_count": 14,
     "metadata": {},
     "output_type": "execute_result"
    }
   ],
   "source": [
    "#duration statistics for movie length\n",
    "imdb_rt[\"duration\"].describe()"
   ]
  },
  {
   "cell_type": "code",
   "execution_count": 15,
   "metadata": {
    "scrolled": false
   },
   "outputs": [
    {
     "data": {
      "image/png": "[encoded data removed]",
      "text/plain": [
       "<Figure size 432x288 with 1 Axes>"
      ]
     },
     "metadata": {
      "needs_background": "light"
     },
     "output_type": "display_data"
    }
   ],
   "source": [
    "imdb_rt_group=imdb_rt.groupby([\"title_year\"])\n",
    "# Store the Mean \n",
    "rt_mean=imdb_rt_group[\"imdb_score\"].mean()\n",
    "# Convert to DataFrame\n",
    "rt_mean_df=pd.DataFrame(rt_mean).reset_index()\n",
    "# Preview DataFrame\n",
    "rt_mean_df.head()\n",
    "\n",
    "#Mean IMDB score over the years\n",
    "rt_mean_df.plot.line(\"title_year\",\"imdb_score\")\n",
    "x = rt_mean_df['title_year']\n",
    "y = rt_mean_df['imdb_score']\n",
    "plt.scatter(x, y)\n",
    "#add trendline for the mean IMDB score\n",
    "z = np.polyfit(x, y, 1)\n",
    "p = np.poly1d(z)\n",
    "plt.xlabel(\"Year\")\n",
    "plt.ylabel(\"IMDB Score\")\n",
    "\n",
    "plt.title(\"Mean of IMDB Score over the Years\")\n",
    "\n",
    "plt.plot(x,p(x),\"r--\")\n",
    "plt.savefig(\"Images/Mean of IMDB over Years.png\")\n",
    "plt.show()\n"
   ]
  },
  {
   "cell_type": "markdown",
   "metadata": {},
   "source": [
    "It indicates that mean IMDB score decreased over the years. And there is a sharp decline in the mid 50s."
   ]
  },
  {
   "cell_type": "code",
   "execution_count": 16,
   "metadata": {
    "scrolled": false
   },
   "outputs": [
    {
     "data": {
      "image/png": "[encoded data removed]",
      "text/plain": [
       "<Figure size 432x288 with 1 Axes>"
      ]
     },
     "metadata": {
      "needs_background": "light"
     },
     "output_type": "display_data"
    }
   ],
   "source": [
    "\n",
    "year=imdb_rt[\"title_year\"].unique().astype(int)\n",
    "year=sorted(year)\n",
    "\n",
    "# get number of movies per year\n",
    "num_movie_yr=[]\n",
    "for i in year:\n",
    "    tmp=imdb_rt.imdb_score[imdb_rt.title_year==i]\n",
    "    num_movie_yr.append(len(tmp))\n",
    "#Mean IMDB score over the years\n",
    "# plt.line(year,num_movie_yr)\n",
    "\n",
    "plt.plot(year, num_movie_yr)\n",
    "plt.scatter(year, num_movie_yr)\n",
    "#add trendline for the mean IMDB score\n",
    "z = np.polyfit(year, num_movie_yr, 1)\n",
    "p = np.poly1d(z)\n",
    "\n",
    "plt.xlabel(\"Year\")\n",
    "plt.ylabel(\"Number of Movies\")\n",
    "plt.title(\"Number of Movies Released over Years\")\n",
    "plt.plot(year,p(year),\"r--\")\n",
    "plt.savefig(\"Images/Number of Movies Released over Years.png\")\n",
    "plt.show()\n"
   ]
  },
  {
   "cell_type": "markdown",
   "metadata": {},
   "source": [
    "Combine this graph and the imdb score trend graph, it demonstrates that producers pay much attention to the quantity of movies instead of quality."
   ]
  },
  {
   "cell_type": "markdown",
   "metadata": {},
   "source": [
    "## Statistical Analysis"
   ]
  },
  {
   "cell_type": "markdown",
   "metadata": {},
   "source": [
    "#### Content rating"
   ]
  },
  {
   "cell_type": "code",
   "execution_count": 17,
   "metadata": {},
   "outputs": [
    {
     "data": {
      "image/png": "[encoded data removed]",
      "text/plain": [
       "<Figure size 432x288 with 1 Axes>"
      ]
     },
     "metadata": {
      "needs_background": "light"
     },
     "output_type": "display_data"
    }
   ],
   "source": [
    "#group imdb_rt by content rating\n",
    "imdb_rt_group=imdb_rt.groupby([\"content_rating\"])\n",
    "# Store the Mean and SEM\n",
    "rt_mean=imdb_rt_group[\"imdb_score\"].mean()\n",
    "rt_sem=imdb_rt_group[\"imdb_score\"].sem()\n",
    "# Convert to DataFrame\n",
    "rt_mean_df=pd.DataFrame(rt_mean).reset_index()\n",
    "rt_sem_df=pd.DataFrame(rt_sem).reset_index()\n",
    "content_rt=imdb_rt[\"content_rating\"].unique()\n",
    "content_rt\n",
    "x_axis = np.arange(len(content_rt))\n",
    "plt.bar(x_axis,rt_mean_df[\"imdb_score\"],yerr=rt_sem_df[\"imdb_score\"],color=\"grey\",alpha=0.5,capsize=10,align=\"center\")\n",
    "tick_locations = [value for value in x_axis]\n",
    "plt.xticks(tick_locations, [\"G\", \"NC-17\", \"Not Rated\", \"PG\", \"PG-13\", \"R\"])\n",
    "plt.xlim(-0.75, len(x_axis)-0.25)\n",
    "plt.ylim(5, 7.5)\n",
    "\n",
    "# Set up the x_axis and y_axis limits\n",
    "\n",
    "plt.grid()\n",
    "plt.title(\"Mean IMDB Score over Each Content Rating\")\n",
    "plt.xlabel(\"Content Rating\")\n",
    "plt.ylabel(\"Mean IMDB Score\")\n",
    "plt.savefig(\"Images/Mean IMDB score over Content Rating.png\")\n",
    "plt.show()\n"
   ]
  },
  {
   "cell_type": "code",
   "execution_count": 18,
   "metadata": {},
   "outputs": [
    {
     "data": {
      "image/png": "[encoded data removed]",
      "text/plain": [
       "<Figure size 432x288 with 1 Axes>"
      ]
     },
     "metadata": {
      "needs_background": "light"
     },
     "output_type": "display_data"
    }
   ],
   "source": [
    "sns.violinplot(x=\"content_rating\",y=\"imdb_score\",data=imdb_rt,order=[\"PG\",\"PG-13\",\"R\",\"NC-17\",\"Not Rated\"])\n",
    "plt.grid()\n",
    "plt.title(\"IMDB Score over Each Content Rating\")\n",
    "plt.xlabel(\"Content Rating\")\n",
    "plt.ylabel(\"IMDB Score\")\n",
    "plt.savefig(\"Images/IMDB score over Content Rating_violinplot.png\")\n",
    "plt.show()\n"
   ]
  },
  {
   "cell_type": "code",
   "execution_count": 19,
   "metadata": {
    "scrolled": true
   },
   "outputs": [
    {
     "data": {
      "image/png": "[encoded data removed]",
      "text/plain": [
       "<Figure size 1440x720 with 1 Axes>"
      ]
     },
     "metadata": {
      "needs_background": "light"
     },
     "output_type": "display_data"
    }
   ],
   "source": [
    "imdb_rt.boxplot(\"imdb_score\",by=\"content_rating\",figsize=(20,10))\n",
    "plt.grid()\n",
    "plt.title(\"IMDB Score over Each Content Rating\")\n",
    "plt.xlabel(\"Content Rating\")\n",
    "plt.ylabel(\"IMDB Score\")\n",
    "plt.savefig(\"Images/IMDB score over Content Rating_boxplot.png\")\n",
    "plt.show()\n"
   ]
  },
  {
   "cell_type": "code",
   "execution_count": 20,
   "metadata": {},
   "outputs": [
    {
     "data": {
      "text/plain": [
       "F_onewayResult(statistic=29.371992526835093, pvalue=4.4219962505081774e-24)"
      ]
     },
     "execution_count": 20,
     "metadata": {},
     "output_type": "execute_result"
    }
   ],
   "source": [
    "# Extract individual groups\n",
    "group1 = imdb_rt[imdb_rt[\"content_rating\"] == \"R\"][\"imdb_score\"]\n",
    "group2 = imdb_rt[imdb_rt[\"content_rating\"] == \"NC-17\"][\"imdb_score\"]\n",
    "group3 = imdb_rt[imdb_rt[\"content_rating\"] == \"Not Rated\"][\"imdb_score\"]\n",
    "group4 = imdb_rt[imdb_rt[\"content_rating\"] == \"PG\"][\"imdb_score\"]\n",
    "group5 = imdb_rt[imdb_rt[\"content_rating\"] == \"PG-13\"][\"imdb_score\"]\n",
    "\n",
    "\n",
    "# Perform the ANOVA\n",
    "stats.f_oneway(group1, group2, group3, group4, group5)"
   ]
  },
  {
   "cell_type": "markdown",
   "metadata": {},
   "source": [
    "P-value is less than 0.05, so the IMDB scores are significantly different among 6 content ratings."
   ]
  },
  {
   "cell_type": "markdown",
   "metadata": {},
   "source": [
    "##### duration"
   ]
  },
  {
   "cell_type": "code",
   "execution_count": 21,
   "metadata": {},
   "outputs": [],
   "source": [
    "#subset the dataset by 50% quartile \n",
    "short=imdb_rt.loc[imdb_rt[\"duration\"]<=106]\n",
    "long=imdb_rt.loc[imdb_rt[\"duration\"]>106]"
   ]
  },
  {
   "cell_type": "code",
   "execution_count": 23,
   "metadata": {
    "scrolled": true
   },
   "outputs": [
    {
     "data": {
      "image/png": "[encoded data removed]",
      "text/plain": [
       "<Figure size 432x288 with 1 Axes>"
      ]
     },
     "metadata": {
      "needs_background": "light"
     },
     "output_type": "display_data"
    }
   ],
   "source": [
    "short_gp=short.groupby([\"content_rating\"])\n",
    "# Store the Mean and SEM\n",
    "short_mean=short_gp[\"imdb_score\"].mean()\n",
    "short_sem=short_gp[\"imdb_score\"].sem()\n",
    "# Convert to DataFrame\n",
    "short_mean_df=pd.DataFrame(short_mean).reset_index()\n",
    "short_sem_df=pd.DataFrame(short_sem).reset_index()\n",
    "content_rt=short[\"content_rating\"].unique()\n",
    "content_rt\n",
    "x_axis = np.arange(len(content_rt))\n",
    "plt.bar(x_axis,short_mean_df[\"imdb_score\"],yerr=short_sem_df[\"imdb_score\"],color=\"grey\",alpha=0.5,capsize=10,align=\"center\")\n",
    "tick_locations = [value for value in x_axis]\n",
    "plt.xticks(tick_locations, [\"NC-17\", \"Not Rated\", \"PG\", \"PG-13\", \"R\"])\n",
    "plt.xlim(-0.75, len(x_axis)-0.25)\n",
    "plt.ylim(5, 7.5)\n",
    "\n",
    "# Set up the x_axis and y_axis limits\n",
    "\n",
    "plt.grid()\n",
    "plt.title(\"Mean IMDB Score over Each Content Rating among Movies <= 106 min\")\n",
    "plt.xlabel(\"Content Rating\")\n",
    "plt.ylabel(\"Mean IMDB Score\")\n",
    "plt.savefig(\"Images/Mean IMDB score over Content Rating among Movies less than 106 min.png\")\n",
    "plt.show()"
   ]
  },
  {
   "cell_type": "code",
   "execution_count": 24,
   "metadata": {},
   "outputs": [
    {
     "data": {
      "text/plain": [
       "F_onewayResult(statistic=18.94174449863079, pvalue=2.7526274584525412e-15)"
      ]
     },
     "execution_count": 24,
     "metadata": {},
     "output_type": "execute_result"
    }
   ],
   "source": [
    "# Extract individual groups\n",
    "group1 = short[short[\"content_rating\"] == \"R\"][\"imdb_score\"]\n",
    "group2 = short[short[\"content_rating\"] == \"NC-17\"][\"imdb_score\"]\n",
    "group3 = short[short[\"content_rating\"] == \"Not Rated\"][\"imdb_score\"]\n",
    "group4 = short[short[\"content_rating\"] == \"PG\"][\"imdb_score\"]\n",
    "group5 = short[short[\"content_rating\"] == \"PG-13\"][\"imdb_score\"]\n",
    "\n",
    "\n",
    "# Perform the ANOVA\n",
    "stats.f_oneway(group1, group2, group3, group4, group5)"
   ]
  },
  {
   "cell_type": "code",
   "execution_count": 25,
   "metadata": {},
   "outputs": [
    {
     "data": {
      "image/png": "[encoded data removed]",
      "text/plain": [
       "<Figure size 432x288 with 1 Axes>"
      ]
     },
     "metadata": {
      "needs_background": "light"
     },
     "output_type": "display_data"
    }
   ],
   "source": [
    "long_gp=long.groupby([\"content_rating\"])\n",
    "# Store the Mean and SEM\n",
    "long_mean=long_gp[\"imdb_score\"].mean()\n",
    "long_sem=long_gp[\"imdb_score\"].sem()\n",
    "# Convert to DataFrame\n",
    "long_mean_df=pd.DataFrame(long_mean).reset_index()\n",
    "long_sem_df=pd.DataFrame(long_sem).reset_index()\n",
    "content_rt=long[\"content_rating\"].unique()\n",
    "content_rt\n",
    "x_axis = np.arange(len(content_rt))\n",
    "plt.bar(x_axis,long_mean_df[\"imdb_score\"],yerr=long_sem_df[\"imdb_score\"],color=\"grey\",alpha=0.5,capsize=10,align=\"center\")\n",
    "tick_locations = [value for value in x_axis]\n",
    "plt.xticks(tick_locations, [ \"NC-17\", \"Not Rated\", \"PG\", \"PG-13\", \"R\"])\n",
    "plt.xlim(-0.75, len(x_axis)-0.25)\n",
    "plt.ylim(4, 8)\n",
    "\n",
    "# Set up the x_axis and y_axis limits\n",
    "\n",
    "plt.grid()\n",
    "plt.title(\"Mean IMDB Score over Each Content Rating among Movies>106 min\")\n",
    "plt.xlabel(\"Content Rating\")\n",
    "plt.ylabel(\"Mean IMDB Score\")\n",
    "plt.savefig(\"Images/Mean IMDB score over Content Rating among Movies more than 106 min.png\")\n",
    "plt.show()"
   ]
  },
  {
   "cell_type": "code",
   "execution_count": 26,
   "metadata": {},
   "outputs": [
    {
     "data": {
      "text/plain": [
       "F_onewayResult(statistic=18.232402152721995, pvalue=1.0744801953618919e-14)"
      ]
     },
     "execution_count": 26,
     "metadata": {},
     "output_type": "execute_result"
    }
   ],
   "source": [
    "# Extract individual groups\n",
    "group1 = long[long[\"content_rating\"] == \"R\"][\"imdb_score\"]\n",
    "group2 = long[long[\"content_rating\"] == \"NC-17\"][\"imdb_score\"]\n",
    "group3 = long[long[\"content_rating\"] == \"Not Rated\"][\"imdb_score\"]\n",
    "group4 = long[long[\"content_rating\"] == \"PG\"][\"imdb_score\"]\n",
    "group5 = long[long[\"content_rating\"] == \"PG-13\"][\"imdb_score\"]\n",
    " \n",
    "\n",
    "# Perform the ANOVA\n",
    "stats.f_oneway(group1, group2, group3, group4, group5)"
   ]
  },
  {
   "cell_type": "code",
   "execution_count": 27,
   "metadata": {},
   "outputs": [
    {
     "data": {
      "image/png": "[encoded data removed]",
      "text/plain": [
       "<Figure size 432x288 with 1 Axes>"
      ]
     },
     "metadata": {
      "needs_background": "light"
     },
     "output_type": "display_data"
    }
   ],
   "source": [
    "sns.violinplot(x=\"content_rating\",y=\"imdb_score\",data=short,order=[\"PG\",\"PG-13\",\"R\",\"NC-17\",\"Not Rated\"])\n",
    "plt.grid()\n",
    "plt.title(\"IMDB Score over Each Content Rating(<=106 min)\")\n",
    "plt.xlabel(\"Content Rating\")\n",
    "plt.ylabel(\"IMDB Score\")\n",
    "plt.savefig(\"Images/IMDB score over Content Rating_violinplot short movie.png\")\n",
    "plt.show()"
   ]
  },
  {
   "cell_type": "code",
   "execution_count": 28,
   "metadata": {},
   "outputs": [
    {
     "data": {
      "image/png": "[encoded data removed]",
      "text/plain": [
       "<Figure size 432x288 with 1 Axes>"
      ]
     },
     "metadata": {
      "needs_background": "light"
     },
     "output_type": "display_data"
    }
   ],
   "source": [
    "sns.violinplot(x=\"content_rating\",y=\"imdb_score\",data=long,order=[\"PG\",\"PG-13\",\"R\",\"NC-17\",\"Not Rated\"])\n",
    "plt.grid()\n",
    "plt.title(\"IMDB Score over Each Content Rating(>106min)\")\n",
    "plt.xlabel(\"Content Rating\")\n",
    "plt.ylabel(\"IMDB Score\")\n",
    "plt.savefig(\"Images/IMDB score over Content Rating_violinplot long movie.png\")\n",
    "plt.show()"
   ]
  },
  {
   "cell_type": "code",
   "execution_count": 29,
   "metadata": {},
   "outputs": [
    {
     "data": {
      "image/png": "[encoded data removed]",
      "text/plain": [
       "<Figure size 432x288 with 1 Axes>"
      ]
     },
     "metadata": {
      "needs_background": "light"
     },
     "output_type": "display_data"
    }
   ],
   "source": [
    "sns.violinplot(x=\"content_rating\", y=\"imdb_score\", hue=\"length\",\n",
    "                     data=imdb_rt, palette=\"muted\", split=True,order=[\"PG\",\"PG-13\",\"R\",\"NC-17\",\"Not Rated\"])\n",
    "plt.grid()\n",
    "plt.title(\"IMDB Score over Each Content Rating\")\n",
    "plt.xlabel(\"Content Rating\")\n",
    "plt.ylabel(\"IMDB Score\")\n",
    "plt.legend(loc=\"lower right\")\n",
    "plt.savefig(\"Images/IMDB score over Content Rating_violinplot based on movie length.png\")\n",
    "plt.show()"
   ]
  },
  {
   "cell_type": "code",
   "execution_count": 30,
   "metadata": {
    "scrolled": false
   },
   "outputs": [
    {
     "data": {
      "text/plain": [
       "6.818787878787878"
      ]
     },
     "execution_count": 30,
     "metadata": {},
     "output_type": "execute_result"
    }
   ],
   "source": [
    "long.imdb_score.mean()"
   ]
  },
  {
   "cell_type": "code",
   "execution_count": 31,
   "metadata": {},
   "outputs": [
    {
     "data": {
      "text/plain": [
       "6.117452830188662"
      ]
     },
     "execution_count": 31,
     "metadata": {},
     "output_type": "execute_result"
    }
   ],
   "source": [
    "short.imdb_score.mean()"
   ]
  },
  {
   "cell_type": "code",
   "execution_count": 32,
   "metadata": {},
   "outputs": [
    {
     "data": {
      "text/plain": [
       "Ttest_indResult(statistic=-21.55945460671142, pvalue=3.722737671139546e-97)"
      ]
     },
     "execution_count": 32,
     "metadata": {},
     "output_type": "execute_result"
    }
   ],
   "source": [
    "stats.ttest_ind(short.imdb_score, long.imdb_score, equal_var=False)"
   ]
  },
  {
   "cell_type": "code",
   "execution_count": 34,
   "metadata": {},
   "outputs": [
    {
     "data": {
      "image/png": "[encoded data removed]",
      "text/plain": [
       "<Figure size 432x288 with 1 Axes>"
      ]
     },
     "metadata": {
      "needs_background": "light"
     },
     "output_type": "display_data"
    }
   ],
   "source": [
    "len_gp=imdb_rt.groupby([\"length\"])\n",
    "# Store the Mean and SEM\n",
    "len_mean=len_gp[\"imdb_score\"].mean()\n",
    "len_sem=len_gp[\"imdb_score\"].sem()\n",
    "# Convert to DataFrame\n",
    "len_mean_df=pd.DataFrame(len_mean).reset_index()\n",
    "len_sem_df=pd.DataFrame(len_sem).reset_index()\n",
    "len_rt=len_gp[\"length\"].unique()\n",
    "len_rt\n",
    "x_axis = np.arange(len(len_rt))\n",
    "plt.bar(x_axis,len_mean_df[\"imdb_score\"],yerr=len_sem_df[\"imdb_score\"],color=\"grey\",alpha=0.5,capsize=10,align=\"center\")\n",
    "tick_locations = [value for value in x_axis]\n",
    "plt.xticks(tick_locations, [ \"<=106min\",\">106min\"])\n",
    "plt.xlim(-0.75, len(x_axis)-0.25)\n",
    "plt.ylim(4, 8)\n",
    "\n",
    "# Set up the x_axis and y_axis limits\n",
    "\n",
    "plt.grid()\n",
    "plt.title(\"Mean IMDB Score over Movie Length\")\n",
    "plt.xlabel(\"Movie Length\")\n",
    "plt.ylabel(\"Mean IMDB Score\")\n",
    "plt.savefig(\"Images/Mean IMDB Score over Movie Length.png\")\n",
    "plt.show()"
   ]
  },
  {
   "cell_type": "code",
   "execution_count": 35,
   "metadata": {
    "scrolled": true
   },
   "outputs": [
    {
     "name": "stdout",
     "output_type": "stream",
     "text": [
      "Pearsons correlation: 0.370\n"
     ]
    }
   ],
   "source": [
    "# calculate the Pearson's correlation between two variables\n",
    "corr, _ = pearsonr(imdb_rt[\"duration\"], imdb_rt[\"imdb_score\"])\n",
    "print('Pearsons correlation: %.3f' % corr)"
   ]
  },
  {
   "cell_type": "markdown",
   "metadata": {},
   "source": [
    "Reference:\n",
    "1) Trendline for Mean IMDB Score over Years was taken from the stackoverflow answer below:  \n",
    "    https://stackoverflow.com/questions/26447191/how-to-add-trendline-in-python-matplotlib-dot-scatter-graphs\n",
    "2) Number of Movie by Year was taken from below link:\n",
    "    https://www.kaggle.com/aninda123/imdb-movie-analysis"
   ]
  },
  {
   "cell_type": "code",
   "execution_count": null,
   "metadata": {},
   "outputs": [],
   "source": []
  }
 ],
 "metadata": {
  "kernelspec": {
   "display_name": "Python 3",
   "language": "python",
   "name": "python3"
  },
  "language_info": {
   "codemirror_mode": {
    "name": "ipython",
    "version": 3
   },
   "file_extension": ".py",
   "mimetype": "text/x-python",
   "name": "python",
   "nbconvert_exporter": "python",
   "pygments_lexer": "ipython3",
   "version": "3.6.9"
  }
 },
 "nbformat": 4,
 "nbformat_minor": 2
}
